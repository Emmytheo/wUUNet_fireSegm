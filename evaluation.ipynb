{
 "cells": [
  {
   "cell_type": "code",
   "execution_count": 1,
   "metadata": {},
   "outputs": [],
   "source": [
    "from validation import Validation\n",
    "import numpy as np\n",
    "import os\n",
    "import json"
   ]
  },
  {
   "cell_type": "code",
   "execution_count": 2,
   "metadata": {},
   "outputs": [],
   "source": [
    "%matplotlib inline\n",
    "np.set_printoptions(precision=49)"
   ]
  },
  {
   "cell_type": "code",
   "execution_count": 3,
   "metadata": {},
   "outputs": [],
   "source": [
    "def evaluate():\n",
    "    test_model_metrics = {}\n",
    "    for dataset_variant in DATASET_VARIANTS:\n",
    "        for comb_type in COMBINATION_TYPES:\n",
    "            for ml_model_name in ML_MODELS:\n",
    "                print(dataset_variant, comb_type)\n",
    "                validation = Validation(dataset_variant, comb_type, input_size=INPUT_SIZE)\n",
    "                for snapshot_variant in VARIANTS[ml_model_name]:\n",
    "                    model_full_name = ml_model_name + '_' + snapshot_variant\n",
    "                    test_model_metrics[model_full_name] = validation.calculate_thresholds(\n",
    "                        ml_model_name, snapshot_variant\n",
    "                    )\n",
    "                #validation.draw_barchart(test_model_metrics)\n",
    "\n",
    "        test_model_metrics_json = {\n",
    "            key: [str(test_model_metrics[key][0]), str(test_model_metrics[key][1]), str(test_model_metrics[key][2]), \n",
    "                  str(test_model_metrics[key][3]), str(test_model_metrics[key][4]), str(test_model_metrics[key][5]), \n",
    "                  str(test_model_metrics[key][6]), str(test_model_metrics[key][7]), str(test_model_metrics[key][8])]\n",
    "            for key in test_model_metrics\n",
    "        }\n",
    "\n",
    "        json.dump(test_model_metrics_json, \n",
    "                  open('output/evaluation/{}_{}/validation_metrics.json'.format(dataset_variant, comb_type), 'w'))"
   ]
  },
  {
   "cell_type": "markdown",
   "metadata": {},
   "source": [
    "# Fullsize 448x448 models evaluation"
   ]
  },
  {
   "cell_type": "code",
   "execution_count": 4,
   "metadata": {},
   "outputs": [
    {
     "name": "stdout",
     "output_type": "stream",
     "text": [
      "['nonint']\n",
      "test nonint\n",
      "is_448_complex = False, self.division_coeff = 1\n",
      "dataloader length = 344\n",
      "unet\n"
     ]
    },
    {
     "name": "stderr",
     "output_type": "stream",
     "text": [
      "\r",
      "  0%|          | 0/344 [00:00<?, ?it/s]"
     ]
    },
    {
     "name": "stdout",
     "output_type": "stream",
     "text": [
      "Successfully loaded pretrained weights from \"pretrained/unet_448_n3_fs_dice/snapshots/pretrained.pth.tar\"\n"
     ]
    },
    {
     "name": "stderr",
     "output_type": "stream",
     "text": [
      "100%|██████████| 344/344 [00:14<00:00, 24.25it/s]\n",
      "100%|██████████| 401/401 [04:09<00:00,  1.61it/s]\n"
     ]
    },
    {
     "name": "stdout",
     "output_type": "stream",
     "text": [
      "[unet_448_n3_fs_dice_best_pretrained test, threshold = 0.52]:\n",
      "MULTICLASS DICE [val = 0.8536081314086914, std = 0.09089664369821548] JACCARD [val = 0.7664166688919067, std = 0.11598838120698929]\n",
      "BINARY DICE [val = 0.9145413041114807, std = 0.15112030506134033] JACCARD [val = 0.8652288913726807, std = 0.15631069242954254]\n",
      "\n",
      "test nonint\n",
      "is_448_complex = False, self.division_coeff = 1\n",
      "dataloader length = 344\n",
      "unet\n"
     ]
    },
    {
     "name": "stderr",
     "output_type": "stream",
     "text": [
      "\r",
      "  0%|          | 0/344 [00:00<?, ?it/s]"
     ]
    },
    {
     "name": "stdout",
     "output_type": "stream",
     "text": [
      "Successfully loaded pretrained weights from \"pretrained/unet_448_n3_fs_jaccard/snapshots/pretrained.pth.tar\"\n"
     ]
    },
    {
     "name": "stderr",
     "output_type": "stream",
     "text": [
      "100%|██████████| 344/344 [00:14<00:00, 24.54it/s]\n",
      "100%|██████████| 401/401 [04:12<00:00,  1.59it/s]"
     ]
    },
    {
     "name": "stdout",
     "output_type": "stream",
     "text": [
      "[unet_448_n3_fs_jaccard_best_pretrained test, threshold = 0.37]:\n",
      "MULTICLASS DICE [val = 0.8589077591896057, std = 0.0898023247718811] JACCARD [val = 0.773259699344635, std = 0.11477012187242508]\n",
      "BINARY DICE [val = 0.9271300435066223, std = 0.12409736961126328] JACCARD [val = 0.8801120519638062, std = 0.1341768503189087]\n",
      "\n"
     ]
    },
    {
     "name": "stderr",
     "output_type": "stream",
     "text": [
      "\n"
     ]
    }
   ],
   "source": [
    "ML_MODELS = [\n",
    "    'unet_448_n3_fs_dice',\n",
    "    'unet_448_n3_fs_jaccard'\n",
    "]\n",
    "\n",
    "\n",
    "INPUT_SIZE = (448, 448)\n",
    "\n",
    "DATASET_VARIANTS = ['test']  #['train_test']\n",
    "\n",
    "COMBINATION_TYPES = ['nonint']\n",
    "print(COMBINATION_TYPES)\n",
    "\n",
    "VARIANTS = {\n",
    "    'unet_448_n3_fs_dice':    ['pretrained'],  #['acc', 'bce'],\n",
    "    'unet_448_n3_fs_jaccard': ['pretrained']   #['mult_trainval_acc', 'loss']\n",
    "}\n",
    "\n",
    "evaluate()"
   ]
  },
  {
   "cell_type": "markdown",
   "metadata": {},
   "source": [
    "# One-window 448x448 models evaluation"
   ]
  },
  {
   "cell_type": "markdown",
   "metadata": {},
   "source": [
    "### "
   ]
  },
  {
   "cell_type": "code",
   "execution_count": 5,
   "metadata": {},
   "outputs": [
    {
     "name": "stdout",
     "output_type": "stream",
     "text": [
      "['onewin']\n",
      "test onewin\n",
      "is_448_complex = False, self.division_coeff = 1\n",
      "dataloader length = 172\n",
      "unet\n"
     ]
    },
    {
     "name": "stderr",
     "output_type": "stream",
     "text": [
      "\r",
      "  0%|          | 0/172 [00:00<?, ?it/s]"
     ]
    },
    {
     "name": "stdout",
     "output_type": "stream",
     "text": [
      "Successfully loaded pretrained weights from \"pretrained/unet_448_n3_ow_dice/snapshots/pretrained.pth.tar\"\n"
     ]
    },
    {
     "name": "stderr",
     "output_type": "stream",
     "text": [
      "100%|██████████| 172/172 [00:07<00:00, 24.11it/s]\n",
      "100%|██████████| 401/401 [03:27<00:00,  1.93it/s]\n"
     ]
    },
    {
     "name": "stdout",
     "output_type": "stream",
     "text": [
      "[unet_448_n3_ow_dice_best_pretrained test, threshold = 0.66]:\n",
      "MULTICLASS DICE [val = 0.8512189984321594, std = 0.09945961833000183] JACCARD [val = 0.7656217217445374, std = 0.11992798000574112]\n",
      "BINARY DICE [val = 0.9174288511276245, std = 0.1503957211971283] JACCARD [val = 0.8689444661140442, std = 0.15789850056171417]\n",
      "\n",
      "test onewin\n",
      "is_448_complex = False, self.division_coeff = 1\n",
      "dataloader length = 172\n",
      "unet\n"
     ]
    },
    {
     "name": "stderr",
     "output_type": "stream",
     "text": [
      "\r",
      "  0%|          | 0/172 [00:00<?, ?it/s]"
     ]
    },
    {
     "name": "stdout",
     "output_type": "stream",
     "text": [
      "Successfully loaded pretrained weights from \"pretrained/unet_448_n3_ow_jaccard/snapshots/pretrained.pth.tar\"\n"
     ]
    },
    {
     "name": "stderr",
     "output_type": "stream",
     "text": [
      "100%|██████████| 172/172 [00:07<00:00, 23.90it/s]\n",
      "100%|██████████| 401/401 [03:26<00:00,  1.94it/s]"
     ]
    },
    {
     "name": "stdout",
     "output_type": "stream",
     "text": [
      "[unet_448_n3_ow_jaccard_best_pretrained test, threshold = 0.8]:\n",
      "MULTICLASS DICE [val = 0.8336564898490906, std = 0.10693837702274323] JACCARD [val = 0.7451353073120117, std = 0.12248960882425308]\n",
      "BINARY DICE [val = 0.8877895474433899, std = 0.19573938846588135] JACCARD [val = 0.8344074487686157, std = 0.1995757520198822]\n",
      "\n"
     ]
    },
    {
     "name": "stderr",
     "output_type": "stream",
     "text": [
      "\n"
     ]
    }
   ],
   "source": [
    "ML_MODELS = [\n",
    "    'unet_448_n3_ow_dice',\n",
    "    'unet_448_n3_ow_jaccard'\n",
    "]\n",
    "\n",
    "INPUT_SIZE = (448, 448)\n",
    "\n",
    "DATASET_VARIANTS = ['test']  #['train_test']\n",
    "\n",
    "COMBINATION_TYPES = ['onewin']\n",
    "print(COMBINATION_TYPES)\n",
    "\n",
    "VARIANTS = {\n",
    "    'unet_448_n3_ow_dice':    ['pretrained'],  #['acc', 'bce'],\n",
    "    'unet_448_n3_ow_jaccard': ['pretrained']   #['mult_trainval_acc', 'loss']\n",
    "}\n",
    "\n",
    "evaluate()"
   ]
  },
  {
   "cell_type": "markdown",
   "metadata": {},
   "source": [
    "# Fullsize 224x224 models evaluation"
   ]
  },
  {
   "cell_type": "code",
   "execution_count": 6,
   "metadata": {},
   "outputs": [
    {
     "name": "stdout",
     "output_type": "stream",
     "text": [
      "['gauss_1', 'gauss_2', 'gauss_3', 'gauss_4', 'gauss_5', 'gauss_6', 'nonint', 'var_step', 'add', 'add_weight']\n",
      "test gauss_1\n",
      "is_448_complex = False, self.division_coeff = 2\n"
     ]
    },
    {
     "name": "stderr",
     "output_type": "stream",
     "text": [
      "\r",
      "  0%|          | 0/2580 [00:00<?, ?it/s]"
     ]
    },
    {
     "name": "stdout",
     "output_type": "stream",
     "text": [
      "dataloader length = 2580\n",
      "unet\n",
      "Successfully loaded pretrained weights from \"pretrained/unet_224_n3_fs_jaccard/snapshots/pretrained.pth.tar\"\n"
     ]
    },
    {
     "name": "stderr",
     "output_type": "stream",
     "text": [
      "100%|██████████| 2580/2580 [00:33<00:00, 77.75it/s]\n",
      "100%|██████████| 401/401 [03:19<00:00,  2.01it/s]\n"
     ]
    },
    {
     "name": "stdout",
     "output_type": "stream",
     "text": [
      "[unet_224_n3_fs_jaccard_best_pretrained test, threshold = 1.78]:\n",
      "MULTICLASS DICE [val = 0.864700198173523, std = 0.10801218450069427] JACCARD [val = 0.789060115814209, std = 0.12087307870388031]\n",
      "BINARY DICE [val = 0.9202410578727722, std = 0.16582058370113373] JACCARD [val = 0.8782798647880554, std = 0.17084330320358276]\n",
      "\n",
      "test gauss_1\n",
      "is_448_complex = False, self.division_coeff = 2\n"
     ]
    },
    {
     "name": "stderr",
     "output_type": "stream",
     "text": [
      "\r",
      "  0%|          | 0/2580 [00:00<?, ?it/s]"
     ]
    },
    {
     "name": "stdout",
     "output_type": "stream",
     "text": [
      "dataloader length = 2580\n",
      "uunet\n",
      "Successfully loaded pretrained weights from \"pretrained/uunet_224_n3_fs_jaccard/snapshots/pretrained.pth.tar\"\n"
     ]
    },
    {
     "name": "stderr",
     "output_type": "stream",
     "text": [
      "100%|██████████| 2580/2580 [00:58<00:00, 43.76it/s]\n",
      "100%|██████████| 401/401 [03:29<00:00,  1.91it/s]\n"
     ]
    },
    {
     "name": "stdout",
     "output_type": "stream",
     "text": [
      "[uunet_224_n3_fs_jaccard_best_pretrained test, threshold = 1.8800000000000001]:\n",
      "MULTICLASS DICE [val = 0.8726083636283875, std = 0.0950973778963089] JACCARD [val = 0.7963340878486633, std = 0.11281019449234009]\n",
      "BINARY DICE [val = 0.9345990419387817, std = 0.12514598667621613] JACCARD [val = 0.8930437564849854, std = 0.13195890188217163]\n",
      "\n",
      "test gauss_1\n",
      "is_448_complex = False, self.division_coeff = 2\n",
      "dataloader length = 2580\n",
      "wuunet\n"
     ]
    },
    {
     "name": "stderr",
     "output_type": "stream",
     "text": [
      "\r",
      "  0%|          | 0/2580 [00:00<?, ?it/s]"
     ]
    },
    {
     "name": "stdout",
     "output_type": "stream",
     "text": [
      "Successfully loaded pretrained weights from \"pretrained/wuunet_224_n3_fs_jaccard/snapshots/pretrained.pth.tar\"\n"
     ]
    },
    {
     "name": "stderr",
     "output_type": "stream",
     "text": [
      "100%|██████████| 2580/2580 [01:07<00:00, 38.26it/s]\n",
      "100%|██████████| 401/401 [03:41<00:00,  1.81it/s]\n"
     ]
    },
    {
     "name": "stdout",
     "output_type": "stream",
     "text": [
      "[wuunet_224_n3_fs_jaccard_best_pretrained test, threshold = 1.82]:\n",
      "MULTICLASS DICE [val = 0.8773807883262634, std = 0.08878577500581741] JACCARD [val = 0.8003774285316467, std = 0.11246616393327713]\n",
      "BINARY DICE [val = 0.9520439505577087, std = 0.0401400588452816] JACCARD [val = 0.9110988974571228, std = 0.06865901499986649]\n",
      "\n",
      "test gauss_2\n",
      "is_448_complex = False, self.division_coeff = 2\n"
     ]
    },
    {
     "name": "stderr",
     "output_type": "stream",
     "text": [
      "\r",
      "  0%|          | 0/2580 [00:00<?, ?it/s]"
     ]
    },
    {
     "name": "stdout",
     "output_type": "stream",
     "text": [
      "dataloader length = 2580\n",
      "unet\n",
      "Successfully loaded pretrained weights from \"pretrained/unet_224_n3_fs_jaccard/snapshots/pretrained.pth.tar\"\n"
     ]
    },
    {
     "name": "stderr",
     "output_type": "stream",
     "text": [
      "100%|██████████| 2580/2580 [00:34<00:00, 73.77it/s]\n",
      "100%|██████████| 401/401 [03:34<00:00,  1.87it/s]\n"
     ]
    },
    {
     "name": "stdout",
     "output_type": "stream",
     "text": [
      "[unet_224_n3_fs_jaccard_best_pretrained test, threshold = 1.44]:\n",
      "MULTICLASS DICE [val = 0.8656995892524719, std = 0.10515687614679337] JACCARD [val = 0.7902591824531555, std = 0.11835607886314392]\n",
      "BINARY DICE [val = 0.9207836389541626, std = 0.16582471132278442] JACCARD [val = 0.87923264503479, std = 0.17083969712257385]\n",
      "\n",
      "test gauss_2\n",
      "is_448_complex = False, self.division_coeff = 2\n"
     ]
    },
    {
     "name": "stderr",
     "output_type": "stream",
     "text": [
      "\r",
      "  0%|          | 0/2580 [00:00<?, ?it/s]"
     ]
    },
    {
     "name": "stdout",
     "output_type": "stream",
     "text": [
      "dataloader length = 2580\n",
      "uunet\n",
      "Successfully loaded pretrained weights from \"pretrained/uunet_224_n3_fs_jaccard/snapshots/pretrained.pth.tar\"\n"
     ]
    },
    {
     "name": "stderr",
     "output_type": "stream",
     "text": [
      "100%|██████████| 2580/2580 [01:00<00:00, 42.81it/s]\n",
      "100%|██████████| 401/401 [03:25<00:00,  1.95it/s]\n"
     ]
    },
    {
     "name": "stdout",
     "output_type": "stream",
     "text": [
      "[uunet_224_n3_fs_jaccard_best_pretrained test, threshold = 1.57]:\n",
      "MULTICLASS DICE [val = 0.8737722039222717, std = 0.09431014209985733] JACCARD [val = 0.797980010509491, std = 0.11185908317565918]\n",
      "BINARY DICE [val = 0.9362317323684692, std = 0.12317908555269241] JACCARD [val = 0.8956987261772156, std = 0.1300448775291443]\n",
      "\n",
      "test gauss_2\n",
      "is_448_complex = False, self.division_coeff = 2\n"
     ]
    },
    {
     "name": "stderr",
     "output_type": "stream",
     "text": [
      "\r",
      "  0%|          | 0/2580 [00:00<?, ?it/s]"
     ]
    },
    {
     "name": "stdout",
     "output_type": "stream",
     "text": [
      "dataloader length = 2580\n",
      "wuunet\n",
      "Successfully loaded pretrained weights from \"pretrained/wuunet_224_n3_fs_jaccard/snapshots/pretrained.pth.tar\"\n"
     ]
    },
    {
     "name": "stderr",
     "output_type": "stream",
     "text": [
      "100%|██████████| 2580/2580 [01:04<00:00, 39.85it/s]\n",
      "100%|██████████| 401/401 [03:26<00:00,  1.95it/s]\n"
     ]
    },
    {
     "name": "stdout",
     "output_type": "stream",
     "text": [
      "[wuunet_224_n3_fs_jaccard_best_pretrained test, threshold = 1.47]:\n",
      "MULTICLASS DICE [val = 0.8779762387275696, std = 0.08846350759267807] JACCARD [val = 0.8011831045150757, std = 0.11219975352287292]\n",
      "BINARY DICE [val = 0.952633261680603, std = 0.040017444640398026] JACCARD [val = 0.9121538400650024, std = 0.06834544241428375]\n",
      "\n",
      "test gauss_3\n",
      "is_448_complex = False, self.division_coeff = 2\n"
     ]
    },
    {
     "name": "stderr",
     "output_type": "stream",
     "text": [
      "\r",
      "  0%|          | 0/2580 [00:00<?, ?it/s]"
     ]
    },
    {
     "name": "stdout",
     "output_type": "stream",
     "text": [
      "dataloader length = 2580\n",
      "unet\n",
      "Successfully loaded pretrained weights from \"pretrained/unet_224_n3_fs_jaccard/snapshots/pretrained.pth.tar\"\n"
     ]
    },
    {
     "name": "stderr",
     "output_type": "stream",
     "text": [
      "100%|██████████| 2580/2580 [00:33<00:00, 77.48it/s]\n",
      "100%|██████████| 401/401 [03:24<00:00,  1.96it/s]\n"
     ]
    },
    {
     "name": "stdout",
     "output_type": "stream",
     "text": [
      "[unet_224_n3_fs_jaccard_best_pretrained test, threshold = 0.96]:\n",
      "MULTICLASS DICE [val = 0.8662922978401184, std = 0.10489239543676376] JACCARD [val = 0.7910966873168945, std = 0.11783856153488159]\n",
      "BINARY DICE [val = 0.9217561483383179, std = 0.16606326401233673] JACCARD [val = 0.880946695804596, std = 0.1709199696779251]\n",
      "\n",
      "test gauss_3\n",
      "is_448_complex = False, self.division_coeff = 2\n"
     ]
    },
    {
     "name": "stderr",
     "output_type": "stream",
     "text": [
      "\r",
      "  0%|          | 0/2580 [00:00<?, ?it/s]"
     ]
    },
    {
     "name": "stdout",
     "output_type": "stream",
     "text": [
      "dataloader length = 2580\n",
      "uunet\n",
      "Successfully loaded pretrained weights from \"pretrained/uunet_224_n3_fs_jaccard/snapshots/pretrained.pth.tar\"\n"
     ]
    },
    {
     "name": "stderr",
     "output_type": "stream",
     "text": [
      "100%|██████████| 2580/2580 [01:00<00:00, 42.86it/s]\n",
      "100%|██████████| 401/401 [03:29<00:00,  1.91it/s]\n"
     ]
    },
    {
     "name": "stdout",
     "output_type": "stream",
     "text": [
      "[uunet_224_n3_fs_jaccard_best_pretrained test, threshold = 1.17]:\n",
      "MULTICLASS DICE [val = 0.8740101456642151, std = 0.09411729127168655] JACCARD [val = 0.7983009219169617, std = 0.11162469536066055]\n",
      "BINARY DICE [val = 0.9368782043457031, std = 0.12323281913995743] JACCARD [val = 0.8968563675880432, std = 0.13003219664096832]\n",
      "\n",
      "test gauss_3\n",
      "is_448_complex = False, self.division_coeff = 2\n"
     ]
    },
    {
     "name": "stderr",
     "output_type": "stream",
     "text": [
      "\r",
      "  0%|          | 0/2580 [00:00<?, ?it/s]"
     ]
    },
    {
     "name": "stdout",
     "output_type": "stream",
     "text": [
      "dataloader length = 2580\n",
      "wuunet\n",
      "Successfully loaded pretrained weights from \"pretrained/wuunet_224_n3_fs_jaccard/snapshots/pretrained.pth.tar\"\n"
     ]
    },
    {
     "name": "stderr",
     "output_type": "stream",
     "text": [
      "100%|██████████| 2580/2580 [01:05<00:00, 39.54it/s]\n",
      "100%|██████████| 401/401 [03:27<00:00,  1.93it/s]\n"
     ]
    },
    {
     "name": "stdout",
     "output_type": "stream",
     "text": [
      "[wuunet_224_n3_fs_jaccard_best_pretrained test, threshold = 1.1300000000000001]:\n",
      "MULTICLASS DICE [val = 0.8782337307929993, std = 0.08847544342279434] JACCARD [val = 0.8015878200531006, std = 0.11226320266723633]\n",
      "BINARY DICE [val = 0.9528077840805054, std = 0.04017040878534317] JACCARD [val = 0.9124884605407715, std = 0.06850983202457428]\n",
      "\n",
      "test gauss_4\n",
      "is_448_complex = False, self.division_coeff = 2\n"
     ]
    },
    {
     "name": "stderr",
     "output_type": "stream",
     "text": [
      "\r",
      "  0%|          | 0/2580 [00:00<?, ?it/s]"
     ]
    },
    {
     "name": "stdout",
     "output_type": "stream",
     "text": [
      "dataloader length = 2580\n",
      "unet\n",
      "Successfully loaded pretrained weights from \"pretrained/unet_224_n3_fs_jaccard/snapshots/pretrained.pth.tar\"\n"
     ]
    },
    {
     "name": "stderr",
     "output_type": "stream",
     "text": [
      "100%|██████████| 2580/2580 [00:32<00:00, 78.71it/s]\n",
      "100%|██████████| 401/401 [03:23<00:00,  1.98it/s]\n"
     ]
    },
    {
     "name": "stdout",
     "output_type": "stream",
     "text": [
      "[unet_224_n3_fs_jaccard_best_pretrained test, threshold = 0.79]:\n",
      "MULTICLASS DICE [val = 0.8668054938316345, std = 0.10059484094381332] JACCARD [val = 0.7914467453956604, std = 0.11455921828746796]\n",
      "BINARY DICE [val = 0.9209809303283691, std = 0.1652948409318924] JACCARD [val = 0.8795029520988464, std = 0.17039844393730164]\n",
      "\n",
      "test gauss_4\n",
      "is_448_complex = False, self.division_coeff = 2\n"
     ]
    },
    {
     "name": "stderr",
     "output_type": "stream",
     "text": [
      "\r",
      "  0%|          | 0/2580 [00:00<?, ?it/s]"
     ]
    },
    {
     "name": "stdout",
     "output_type": "stream",
     "text": [
      "dataloader length = 2580\n",
      "uunet\n",
      "Successfully loaded pretrained weights from \"pretrained/uunet_224_n3_fs_jaccard/snapshots/pretrained.pth.tar\"\n"
     ]
    },
    {
     "name": "stderr",
     "output_type": "stream",
     "text": [
      "100%|██████████| 2580/2580 [01:00<00:00, 42.69it/s]\n",
      "100%|██████████| 401/401 [03:25<00:00,  1.96it/s]\n"
     ]
    },
    {
     "name": "stdout",
     "output_type": "stream",
     "text": [
      "[uunet_224_n3_fs_jaccard_best_pretrained test, threshold = 0.79]:\n",
      "MULTICLASS DICE [val = 0.8746188879013062, std = 0.09370695799589157] JACCARD [val = 0.7990587949752808, std = 0.11125820875167847]\n",
      "BINARY DICE [val = 0.9375492930412292, std = 0.12337736785411835] JACCARD [val = 0.8980673551559448, std = 0.13007815182209015]\n",
      "\n",
      "test gauss_4\n",
      "is_448_complex = False, self.division_coeff = 2\n"
     ]
    },
    {
     "name": "stderr",
     "output_type": "stream",
     "text": [
      "\r",
      "  0%|          | 0/2580 [00:00<?, ?it/s]"
     ]
    },
    {
     "name": "stdout",
     "output_type": "stream",
     "text": [
      "dataloader length = 2580\n",
      "wuunet\n",
      "Successfully loaded pretrained weights from \"pretrained/wuunet_224_n3_fs_jaccard/snapshots/pretrained.pth.tar\"\n"
     ]
    },
    {
     "name": "stderr",
     "output_type": "stream",
     "text": [
      "100%|██████████| 2580/2580 [01:04<00:00, 40.05it/s]\n",
      "100%|██████████| 401/401 [03:26<00:00,  1.95it/s]\n"
     ]
    },
    {
     "name": "stdout",
     "output_type": "stream",
     "text": [
      "[wuunet_224_n3_fs_jaccard_best_pretrained test, threshold = 0.85]:\n",
      "MULTICLASS DICE [val = 0.8783738017082214, std = 0.08981911838054657] JACCARD [val = 0.801946759223938, std = 0.11292066425085068]\n",
      "BINARY DICE [val = 0.9532920718193054, std = 0.03999272361397743] JACCARD [val = 0.9133455753326416, std = 0.06809243559837341]\n",
      "\n",
      "test gauss_5\n",
      "is_448_complex = False, self.division_coeff = 2\n"
     ]
    },
    {
     "name": "stderr",
     "output_type": "stream",
     "text": [
      "\r",
      "  0%|          | 0/2580 [00:00<?, ?it/s]"
     ]
    },
    {
     "name": "stdout",
     "output_type": "stream",
     "text": [
      "dataloader length = 2580\n",
      "unet\n",
      "Successfully loaded pretrained weights from \"pretrained/unet_224_n3_fs_jaccard/snapshots/pretrained.pth.tar\"\n"
     ]
    },
    {
     "name": "stderr",
     "output_type": "stream",
     "text": [
      "100%|██████████| 2580/2580 [00:33<00:00, 77.08it/s]\n",
      "100%|██████████| 401/401 [03:23<00:00,  1.97it/s]\n"
     ]
    },
    {
     "name": "stdout",
     "output_type": "stream",
     "text": [
      "[unet_224_n3_fs_jaccard_best_pretrained test, threshold = 0.55]:\n",
      "MULTICLASS DICE [val = 0.8666349649429321, std = 0.10018979758024216] JACCARD [val = 0.7911069989204407, std = 0.11426078528165817]\n",
      "BINARY DICE [val = 0.9206613898277283, std = 0.16512666642665863] JACCARD [val = 0.8789201974868774, std = 0.17026782035827637]\n",
      "\n",
      "test gauss_5\n",
      "is_448_complex = False, self.division_coeff = 2\n"
     ]
    },
    {
     "name": "stderr",
     "output_type": "stream",
     "text": [
      "\r",
      "  0%|          | 0/2580 [00:00<?, ?it/s]"
     ]
    },
    {
     "name": "stdout",
     "output_type": "stream",
     "text": [
      "dataloader length = 2580\n",
      "uunet\n",
      "Successfully loaded pretrained weights from \"pretrained/uunet_224_n3_fs_jaccard/snapshots/pretrained.pth.tar\"\n"
     ]
    },
    {
     "name": "stderr",
     "output_type": "stream",
     "text": [
      "100%|██████████| 2580/2580 [00:59<00:00, 43.14it/s]\n",
      "100%|██████████| 401/401 [03:24<00:00,  1.96it/s]\n"
     ]
    },
    {
     "name": "stdout",
     "output_type": "stream",
     "text": [
      "[uunet_224_n3_fs_jaccard_best_pretrained test, threshold = 0.49]:\n",
      "MULTICLASS DICE [val = 0.874583899974823, std = 0.09361454844474792] JACCARD [val = 0.7989258766174316, std = 0.11110265552997589]\n",
      "BINARY DICE [val = 0.9377581477165222, std = 0.1233517974615097] JACCARD [val = 0.8984110355377197, std = 0.12985661625862122]\n",
      "\n",
      "test gauss_5\n",
      "is_448_complex = False, self.division_coeff = 2\n"
     ]
    },
    {
     "name": "stderr",
     "output_type": "stream",
     "text": [
      "\r",
      "  0%|          | 0/2580 [00:00<?, ?it/s]"
     ]
    },
    {
     "name": "stdout",
     "output_type": "stream",
     "text": [
      "dataloader length = 2580\n",
      "wuunet\n",
      "Successfully loaded pretrained weights from \"pretrained/wuunet_224_n3_fs_jaccard/snapshots/pretrained.pth.tar\"\n"
     ]
    },
    {
     "name": "stderr",
     "output_type": "stream",
     "text": [
      "100%|██████████| 2580/2580 [01:05<00:00, 39.62it/s]\n",
      "100%|██████████| 401/401 [03:22<00:00,  1.98it/s]\n"
     ]
    },
    {
     "name": "stdout",
     "output_type": "stream",
     "text": [
      "[wuunet_224_n3_fs_jaccard_best_pretrained test, threshold = 0.64]:\n",
      "MULTICLASS DICE [val = 0.8784009218215942, std = 0.08820740878582001] JACCARD [val = 0.8018059134483337, std = 0.11202440410852432]\n",
      "BINARY DICE [val = 0.952285647392273, std = 0.0410369336605072] JACCARD [val = 0.9116411209106445, std = 0.06977461278438568]\n",
      "\n",
      "test gauss_6\n",
      "is_448_complex = False, self.division_coeff = 2\n"
     ]
    },
    {
     "name": "stderr",
     "output_type": "stream",
     "text": [
      "\r",
      "  0%|          | 0/2580 [00:00<?, ?it/s]"
     ]
    },
    {
     "name": "stdout",
     "output_type": "stream",
     "text": [
      "dataloader length = 2580\n",
      "unet\n",
      "Successfully loaded pretrained weights from \"pretrained/unet_224_n3_fs_jaccard/snapshots/pretrained.pth.tar\"\n"
     ]
    },
    {
     "name": "stderr",
     "output_type": "stream",
     "text": [
      "100%|██████████| 2580/2580 [00:33<00:00, 76.73it/s]\n",
      "100%|██████████| 401/401 [03:22<00:00,  1.98it/s]\n"
     ]
    },
    {
     "name": "stdout",
     "output_type": "stream",
     "text": [
      "[unet_224_n3_fs_jaccard_best_pretrained test, threshold = 0.23]:\n",
      "MULTICLASS DICE [val = 0.8656076192855835, std = 0.10708476603031158] JACCARD [val = 0.7902324795722961, std = 0.119378961622715]\n",
      "BINARY DICE [val = 0.9220999479293823, std = 0.16568639874458313] JACCARD [val = 0.8814132213592529, std = 0.1701425164937973]\n",
      "\n",
      "test gauss_6\n",
      "is_448_complex = False, self.division_coeff = 2\n"
     ]
    },
    {
     "name": "stderr",
     "output_type": "stream",
     "text": [
      "\r",
      "  0%|          | 0/2580 [00:00<?, ?it/s]"
     ]
    },
    {
     "name": "stdout",
     "output_type": "stream",
     "text": [
      "dataloader length = 2580\n",
      "uunet\n",
      "Successfully loaded pretrained weights from \"pretrained/uunet_224_n3_fs_jaccard/snapshots/pretrained.pth.tar\"\n"
     ]
    },
    {
     "name": "stderr",
     "output_type": "stream",
     "text": [
      "100%|██████████| 2580/2580 [01:00<00:00, 42.90it/s]\n",
      "100%|██████████| 401/401 [03:24<00:00,  1.96it/s]\n"
     ]
    },
    {
     "name": "stdout",
     "output_type": "stream",
     "text": [
      "[uunet_224_n3_fs_jaccard_best_pretrained test, threshold = 0.33]:\n",
      "MULTICLASS DICE [val = 0.8740944266319275, std = 0.09393931925296783] JACCARD [val = 0.7981863617897034, std = 0.11170817166566849]\n",
      "BINARY DICE [val = 0.9371552467346191, std = 0.12340573221445084] JACCARD [val = 0.8973593711853027, std = 0.13007749617099762]\n",
      "\n",
      "test gauss_6\n",
      "is_448_complex = False, self.division_coeff = 2\n"
     ]
    },
    {
     "name": "stderr",
     "output_type": "stream",
     "text": [
      "\r",
      "  0%|          | 0/2580 [00:00<?, ?it/s]"
     ]
    },
    {
     "name": "stdout",
     "output_type": "stream",
     "text": [
      "dataloader length = 2580\n",
      "wuunet\n",
      "Successfully loaded pretrained weights from \"pretrained/wuunet_224_n3_fs_jaccard/snapshots/pretrained.pth.tar\"\n"
     ]
    },
    {
     "name": "stderr",
     "output_type": "stream",
     "text": [
      "100%|██████████| 2580/2580 [01:04<00:00, 39.86it/s]\n",
      "100%|██████████| 401/401 [03:26<00:00,  1.94it/s]\n"
     ]
    },
    {
     "name": "stdout",
     "output_type": "stream",
     "text": [
      "[wuunet_224_n3_fs_jaccard_best_pretrained test, threshold = 0.34]:\n",
      "MULTICLASS DICE [val = 0.876707911491394, std = 0.09479079395532608] JACCARD [val = 0.7999489307403564, std = 0.11644472926855087]\n",
      "BINARY DICE [val = 0.9531094431877136, std = 0.040075600147247314] JACCARD [val = 0.9130188822746277, std = 0.06815079599618912]\n",
      "\n",
      "test nonint\n",
      "is_448_complex = False, self.division_coeff = 1\n"
     ]
    },
    {
     "name": "stderr",
     "output_type": "stream",
     "text": [
      "\r",
      "  0%|          | 0/1032 [00:00<?, ?it/s]"
     ]
    },
    {
     "name": "stdout",
     "output_type": "stream",
     "text": [
      "dataloader length = 1032\n",
      "unet\n",
      "Successfully loaded pretrained weights from \"pretrained/unet_224_n3_fs_jaccard/snapshots/pretrained.pth.tar\"\n"
     ]
    },
    {
     "name": "stderr",
     "output_type": "stream",
     "text": [
      "100%|██████████| 1032/1032 [00:13<00:00, 77.14it/s]\n",
      "100%|██████████| 401/401 [03:47<00:00,  1.77it/s]\n"
     ]
    },
    {
     "name": "stdout",
     "output_type": "stream",
     "text": [
      "[unet_224_n3_fs_jaccard_best_pretrained test, threshold = 0.33]:\n",
      "MULTICLASS DICE [val = 0.8598356246948242, std = 0.11047952622175217] JACCARD [val = 0.7825764417648315, std = 0.12082292884588242]\n",
      "BINARY DICE [val = 0.9155084490776062, std = 0.18036380410194397] JACCARD [val = 0.8743144273757935, std = 0.18298423290252686]\n",
      "\n",
      "test nonint\n",
      "is_448_complex = False, self.division_coeff = 1\n"
     ]
    },
    {
     "name": "stderr",
     "output_type": "stream",
     "text": [
      "\r",
      "  0%|          | 0/1032 [00:00<?, ?it/s]"
     ]
    },
    {
     "name": "stdout",
     "output_type": "stream",
     "text": [
      "dataloader length = 1032\n",
      "uunet\n",
      "Successfully loaded pretrained weights from \"pretrained/uunet_224_n3_fs_jaccard/snapshots/pretrained.pth.tar\"\n"
     ]
    },
    {
     "name": "stderr",
     "output_type": "stream",
     "text": [
      "100%|██████████| 1032/1032 [00:23<00:00, 43.36it/s]\n",
      "100%|██████████| 401/401 [03:48<00:00,  1.76it/s]\n"
     ]
    },
    {
     "name": "stdout",
     "output_type": "stream",
     "text": [
      "[uunet_224_n3_fs_jaccard_best_pretrained test, threshold = 0.52]:\n",
      "MULTICLASS DICE [val = 0.8604017496109009, std = 0.10032208263874054] JACCARD [val = 0.7830035090446472, std = 0.11137774586677551]\n",
      "BINARY DICE [val = 0.904484212398529, std = 0.202678844332695] JACCARD [val = 0.8630136251449585, std = 0.2023286670446396]\n",
      "\n",
      "test nonint\n",
      "is_448_complex = False, self.division_coeff = 1\n"
     ]
    },
    {
     "name": "stderr",
     "output_type": "stream",
     "text": [
      "\r",
      "  0%|          | 0/1032 [00:00<?, ?it/s]"
     ]
    },
    {
     "name": "stdout",
     "output_type": "stream",
     "text": [
      "dataloader length = 1032\n",
      "wuunet\n",
      "Successfully loaded pretrained weights from \"pretrained/wuunet_224_n3_fs_jaccard/snapshots/pretrained.pth.tar\"\n"
     ]
    },
    {
     "name": "stderr",
     "output_type": "stream",
     "text": [
      "100%|██████████| 1032/1032 [00:26<00:00, 39.59it/s]\n",
      "100%|██████████| 401/401 [03:43<00:00,  1.79it/s]\n"
     ]
    },
    {
     "name": "stdout",
     "output_type": "stream",
     "text": [
      "[wuunet_224_n3_fs_jaccard_best_pretrained test, threshold = 0.64]:\n",
      "MULTICLASS DICE [val = 0.8703920245170593, std = 0.09631897509098053] JACCARD [val = 0.7919504642486572, std = 0.11597663164138794]\n",
      "BINARY DICE [val = 0.940881073474884, std = 0.1033780574798584] JACCARD [val = 0.8998925089836121, std = 0.11452516913414001]\n",
      "\n",
      "test var_step\n",
      "is_448_complex = False, self.division_coeff = 1\n"
     ]
    },
    {
     "name": "stderr",
     "output_type": "stream",
     "text": [
      "\r",
      "  0%|          | 0/1032 [00:00<?, ?it/s]"
     ]
    },
    {
     "name": "stdout",
     "output_type": "stream",
     "text": [
      "dataloader length = 1032\n",
      "unet\n",
      "Successfully loaded pretrained weights from \"pretrained/unet_224_n3_fs_jaccard/snapshots/pretrained.pth.tar\"\n"
     ]
    },
    {
     "name": "stderr",
     "output_type": "stream",
     "text": [
      "100%|██████████| 1032/1032 [00:13<00:00, 76.49it/s]\n",
      "100%|██████████| 401/401 [03:43<00:00,  1.79it/s]\n"
     ]
    },
    {
     "name": "stdout",
     "output_type": "stream",
     "text": [
      "[unet_224_n3_fs_jaccard_best_pretrained test, threshold = 0.52]:\n",
      "MULTICLASS DICE [val = 0.8675350546836853, std = 0.09710581600666046] JACCARD [val = 0.7923960089683533, std = 0.11164593696594238]\n",
      "BINARY DICE [val = 0.9221016764640808, std = 0.1653280407190323] JACCARD [val = 0.8814451694488525, std = 0.17035886645317078]\n",
      "\n",
      "test var_step\n",
      "is_448_complex = False, self.division_coeff = 1\n"
     ]
    },
    {
     "name": "stderr",
     "output_type": "stream",
     "text": [
      "\r",
      "  0%|          | 0/1032 [00:00<?, ?it/s]"
     ]
    },
    {
     "name": "stdout",
     "output_type": "stream",
     "text": [
      "dataloader length = 1032\n",
      "uunet\n",
      "Successfully loaded pretrained weights from \"pretrained/uunet_224_n3_fs_jaccard/snapshots/pretrained.pth.tar\"\n"
     ]
    },
    {
     "name": "stderr",
     "output_type": "stream",
     "text": [
      "100%|██████████| 1032/1032 [00:23<00:00, 43.13it/s]\n",
      "100%|██████████| 401/401 [03:47<00:00,  1.76it/s]\n"
     ]
    },
    {
     "name": "stdout",
     "output_type": "stream",
     "text": [
      "[uunet_224_n3_fs_jaccard_best_pretrained test, threshold = 0.73]:\n",
      "MULTICLASS DICE [val = 0.8742293119430542, std = 0.09361962974071503] JACCARD [val = 0.7986941933631897, std = 0.11198551207780838]\n",
      "BINARY DICE [val = 0.9350396990776062, std = 0.12337511032819748] JACCARD [val = 0.893626868724823, std = 0.13060393929481506]\n",
      "\n",
      "test var_step\n",
      "is_448_complex = False, self.division_coeff = 1\n"
     ]
    },
    {
     "name": "stderr",
     "output_type": "stream",
     "text": [
      "\r",
      "  0%|          | 0/1032 [00:00<?, ?it/s]"
     ]
    },
    {
     "name": "stdout",
     "output_type": "stream",
     "text": [
      "dataloader length = 1032\n",
      "wuunet\n",
      "Successfully loaded pretrained weights from \"pretrained/wuunet_224_n3_fs_jaccard/snapshots/pretrained.pth.tar\"\n"
     ]
    },
    {
     "name": "stderr",
     "output_type": "stream",
     "text": [
      "100%|██████████| 1032/1032 [00:26<00:00, 39.33it/s]\n",
      "100%|██████████| 401/401 [03:49<00:00,  1.75it/s]\n"
     ]
    },
    {
     "name": "stdout",
     "output_type": "stream",
     "text": [
      "[wuunet_224_n3_fs_jaccard_best_pretrained test, threshold = 0.68]:\n",
      "MULTICLASS DICE [val = 0.8806812167167664, std = 0.08266422152519226] JACCARD [val = 0.8047024011611938, std = 0.10689722001552582]\n",
      "BINARY DICE [val = 0.9547039270401001, std = 0.03806905820965767] JACCARD [val = 0.9157037138938904, std = 0.06524180620908737]\n",
      "\n",
      "test add\n",
      "is_448_complex = False, self.division_coeff = 2\n"
     ]
    },
    {
     "name": "stderr",
     "output_type": "stream",
     "text": [
      "\r",
      "  0%|          | 0/2580 [00:00<?, ?it/s]"
     ]
    },
    {
     "name": "stdout",
     "output_type": "stream",
     "text": [
      "dataloader length = 2580\n",
      "unet\n",
      "Successfully loaded pretrained weights from \"pretrained/unet_224_n3_fs_jaccard/snapshots/pretrained.pth.tar\"\n"
     ]
    },
    {
     "name": "stderr",
     "output_type": "stream",
     "text": [
      "100%|██████████| 2580/2580 [00:31<00:00, 80.64it/s]\n",
      "100%|██████████| 401/401 [03:24<00:00,  1.96it/s]\n"
     ]
    },
    {
     "name": "stdout",
     "output_type": "stream",
     "text": [
      "[unet_224_n3_fs_jaccard_best_pretrained test, threshold = 0.91]:\n",
      "MULTICLASS DICE [val = 0.8629373908042908, std = 0.11035967618227005] JACCARD [val = 0.7872307300567627, std = 0.12051473557949066]\n",
      "BINARY DICE [val = 0.9156517386436462, std = 0.1801297962665558] JACCARD [val = 0.8746539950370789, std = 0.1829230785369873]\n",
      "\n",
      "test add\n",
      "is_448_complex = False, self.division_coeff = 2\n"
     ]
    },
    {
     "name": "stderr",
     "output_type": "stream",
     "text": [
      "\r",
      "  0%|          | 0/2580 [00:00<?, ?it/s]"
     ]
    },
    {
     "name": "stdout",
     "output_type": "stream",
     "text": [
      "dataloader length = 2580\n",
      "uunet\n",
      "Successfully loaded pretrained weights from \"pretrained/uunet_224_n3_fs_jaccard/snapshots/pretrained.pth.tar\"\n"
     ]
    },
    {
     "name": "stderr",
     "output_type": "stream",
     "text": [
      "100%|██████████| 2580/2580 [00:58<00:00, 43.97it/s]\n",
      "100%|██████████| 401/401 [03:22<00:00,  1.98it/s]\n"
     ]
    },
    {
     "name": "stdout",
     "output_type": "stream",
     "text": [
      "[uunet_224_n3_fs_jaccard_best_pretrained test, threshold = 0.9400000000000001]:\n",
      "MULTICLASS DICE [val = 0.8635686635971069, std = 0.09900360554456711] JACCARD [val = 0.7872214913368225, std = 0.10813994705677032]\n",
      "BINARY DICE [val = 0.9058950543403625, std = 0.2013583928346634] JACCARD [val = 0.8649479150772095, std = 0.19981813430786133]\n",
      "\n",
      "test add\n",
      "is_448_complex = False, self.division_coeff = 2\n"
     ]
    },
    {
     "name": "stderr",
     "output_type": "stream",
     "text": [
      "\r",
      "  0%|          | 0/2580 [00:00<?, ?it/s]"
     ]
    },
    {
     "name": "stdout",
     "output_type": "stream",
     "text": [
      "dataloader length = 2580\n",
      "wuunet\n",
      "Successfully loaded pretrained weights from \"pretrained/wuunet_224_n3_fs_jaccard/snapshots/pretrained.pth.tar\"\n"
     ]
    },
    {
     "name": "stderr",
     "output_type": "stream",
     "text": [
      "100%|██████████| 2580/2580 [01:03<00:00, 40.46it/s]\n",
      "100%|██████████| 401/401 [03:26<00:00,  1.95it/s]\n"
     ]
    },
    {
     "name": "stdout",
     "output_type": "stream",
     "text": [
      "[wuunet_224_n3_fs_jaccard_best_pretrained test, threshold = 0.96]:\n",
      "MULTICLASS DICE [val = 0.8709046244621277, std = 0.10116322338581085] JACCARD [val = 0.7931992411613464, std = 0.11842260509729385]\n",
      "BINARY DICE [val = 0.9416449666023254, std = 0.09769826382398605] JACCARD [val = 0.9003622531890869, std = 0.10725566744804382]\n",
      "\n",
      "test add_weight\n",
      "is_448_complex = False, self.division_coeff = 2\n"
     ]
    },
    {
     "name": "stderr",
     "output_type": "stream",
     "text": [
      "\r",
      "  0%|          | 0/2580 [00:00<?, ?it/s]"
     ]
    },
    {
     "name": "stdout",
     "output_type": "stream",
     "text": [
      "dataloader length = 2580\n",
      "unet\n",
      "Successfully loaded pretrained weights from \"pretrained/unet_224_n3_fs_jaccard/snapshots/pretrained.pth.tar\"\n"
     ]
    },
    {
     "name": "stderr",
     "output_type": "stream",
     "text": [
      "100%|██████████| 2580/2580 [00:32<00:00, 79.23it/s]\n",
      "100%|██████████| 401/401 [03:23<00:00,  1.97it/s]\n"
     ]
    },
    {
     "name": "stdout",
     "output_type": "stream",
     "text": [
      "[unet_224_n3_fs_jaccard_best_pretrained test, threshold = 1.53]:\n",
      "MULTICLASS DICE [val = 0.8630505800247192, std = 0.11043860763311386] JACCARD [val = 0.7875046730041504, std = 0.12102581560611725]\n",
      "BINARY DICE [val = 0.9157057404518127, std = 0.18079279363155365] JACCARD [val = 0.8749482035636902, std = 0.18405386805534363]\n",
      "\n",
      "test add_weight\n",
      "is_448_complex = False, self.division_coeff = 2\n"
     ]
    },
    {
     "name": "stderr",
     "output_type": "stream",
     "text": [
      "\r",
      "  0%|          | 0/2580 [00:00<?, ?it/s]"
     ]
    },
    {
     "name": "stdout",
     "output_type": "stream",
     "text": [
      "dataloader length = 2580\n",
      "uunet\n",
      "Successfully loaded pretrained weights from \"pretrained/uunet_224_n3_fs_jaccard/snapshots/pretrained.pth.tar\"\n"
     ]
    },
    {
     "name": "stderr",
     "output_type": "stream",
     "text": [
      "100%|██████████| 2580/2580 [00:59<00:00, 43.47it/s]\n",
      "100%|██████████| 401/401 [03:24<00:00,  1.96it/s]\n"
     ]
    },
    {
     "name": "stdout",
     "output_type": "stream",
     "text": [
      "[uunet_224_n3_fs_jaccard_best_pretrained test, threshold = 2.0100000000000002]:\n",
      "MULTICLASS DICE [val = 0.8706000447273254, std = 0.09421264380216599] JACCARD [val = 0.792904794216156, std = 0.11295895278453827]\n",
      "BINARY DICE [val = 0.9331845045089722, std = 0.12253173440694809] JACCARD [val = 0.890234112739563, std = 0.13022086024284363]\n",
      "\n",
      "test add_weight\n",
      "is_448_complex = False, self.division_coeff = 2\n"
     ]
    },
    {
     "name": "stderr",
     "output_type": "stream",
     "text": [
      "\r",
      "  0%|          | 0/2580 [00:00<?, ?it/s]"
     ]
    },
    {
     "name": "stdout",
     "output_type": "stream",
     "text": [
      "dataloader length = 2580\n",
      "wuunet\n",
      "Successfully loaded pretrained weights from \"pretrained/wuunet_224_n3_fs_jaccard/snapshots/pretrained.pth.tar\"\n"
     ]
    },
    {
     "name": "stderr",
     "output_type": "stream",
     "text": [
      "100%|██████████| 2580/2580 [01:03<00:00, 40.77it/s]\n",
      "100%|██████████| 401/401 [03:24<00:00,  1.96it/s]"
     ]
    },
    {
     "name": "stdout",
     "output_type": "stream",
     "text": [
      "[wuunet_224_n3_fs_jaccard_best_pretrained test, threshold = 1.9100000000000001]:\n",
      "MULTICLASS DICE [val = 0.8745286464691162, std = 0.09504564106464386] JACCARD [val = 0.7974212765693665, std = 0.11556769162416458]\n",
      "BINARY DICE [val = 0.9471057653427124, std = 0.0822804868221283] JACCARD [val = 0.9067918658256531, std = 0.0963485985994339]\n",
      "\n"
     ]
    },
    {
     "name": "stderr",
     "output_type": "stream",
     "text": [
      "\n"
     ]
    }
   ],
   "source": [
    "ML_MODELS = [\n",
    "    'unet_224_n3_fs_jaccard',\n",
    "    'uunet_224_n3_fs_jaccard',\n",
    "    'wuunet_224_n3_fs_jaccard'\n",
    "]\n",
    "\n",
    "INPUT_SIZE = (224, 224)\n",
    "\n",
    "DATASET_VARIANTS = ['test']  #['train_test']\n",
    "\n",
    "COMBINATION_TYPES = ['gauss_{}'.format(i) for i in range(1, 7)]\n",
    "COMBINATION_TYPES.extend(['nonint', 'var_step', 'add', 'add_weight'])\n",
    "print(COMBINATION_TYPES)\n",
    "\n",
    "VARIANTS = {\n",
    "    'unet_224_n3_fs_jaccard':   ['pretrained'],  #['mult_trainval_acc', 'loss']\n",
    "    'uunet_224_n3_fs_jaccard':  ['pretrained'],  #['mult_acc', 'mult_loss', 'mult_trainval_acc']\n",
    "    'wuunet_224_n3_fs_jaccard': ['pretrained']   #['mult_acc', 'mult_loss', 'mult_trainval_acc']\n",
    "}\n",
    "\n",
    "evaluate()"
   ]
  },
  {
   "cell_type": "markdown",
   "metadata": {},
   "source": [
    "# Fullsize 224x224 Gauss dichotomy"
   ]
  },
  {
   "cell_type": "code",
   "execution_count": 7,
   "metadata": {},
   "outputs": [
    {
     "name": "stdout",
     "output_type": "stream",
     "text": [
      "['gauss_0']\n",
      "test gauss_0\n",
      "is_448_complex = False, self.division_coeff = 2\n"
     ]
    },
    {
     "name": "stderr",
     "output_type": "stream",
     "text": [
      "\r",
      "  0%|          | 0/2580 [00:00<?, ?it/s]"
     ]
    },
    {
     "name": "stdout",
     "output_type": "stream",
     "text": [
      "dataloader length = 2580\n",
      "unet\n",
      "Successfully loaded pretrained weights from \"pretrained/unet_224_n3_fs_jaccard/snapshots/pretrained.pth.tar\"\n"
     ]
    },
    {
     "name": "stderr",
     "output_type": "stream",
     "text": [
      "100%|██████████| 2580/2580 [00:32<00:00, 78.28it/s]\n",
      "100%|██████████| 401/401 [03:20<00:00,  2.00it/s]\n",
      "100%|██████████| 2580/2580 [00:33<00:00, 77.07it/s]\n",
      "100%|██████████| 401/401 [03:22<00:00,  1.98it/s]\n",
      "100%|██████████| 2580/2580 [00:33<00:00, 77.90it/s]\n",
      "100%|██████████| 401/401 [03:22<00:00,  1.98it/s]\n",
      "  0%|          | 0/2580 [00:00<?, ?it/s]"
     ]
    },
    {
     "name": "stdout",
     "output_type": "stream",
     "text": [
      "[unet_224_n3_fs_jaccard_pretrained test, threshold = 0.06, gauss_div = 8.05]:\n",
      "MULTICLASS DICE [val = 0.8638684153556824, std = 0.10894553363323212] JACCARD [val = 0.7876718044281006, std = 0.12086701393127441]\n",
      "BINARY DICE [val = 0.920449435710907, std = 0.1652624011039734] JACCARD [val = 0.8783133029937744, std = 0.16907435655593872]\n",
      "\n"
     ]
    },
    {
     "name": "stderr",
     "output_type": "stream",
     "text": [
      "100%|██████████| 2580/2580 [00:33<00:00, 77.41it/s]\n",
      "100%|██████████| 401/401 [03:25<00:00,  1.95it/s]\n",
      "  0%|          | 0/2580 [00:00<?, ?it/s]"
     ]
    },
    {
     "name": "stdout",
     "output_type": "stream",
     "text": [
      "[unet_224_n3_fs_jaccard_pretrained test, threshold = 0.76, gauss_div = 4.075]:\n",
      "MULTICLASS DICE [val = 0.8668707609176636, std = 0.10050084441900253] JACCARD [val = 0.7915051579475403, std = 0.11447949707508087]\n",
      "BINARY DICE [val = 0.9210439920425415, std = 0.16530348360538483] JACCARD [val = 0.8796152472496033, std = 0.1704065054655075]\n",
      "\n"
     ]
    },
    {
     "name": "stderr",
     "output_type": "stream",
     "text": [
      "100%|██████████| 2580/2580 [00:33<00:00, 77.53it/s]\n",
      "100%|██████████| 401/401 [03:25<00:00,  1.95it/s]\n",
      "  0%|          | 0/2580 [00:00<?, ?it/s]"
     ]
    },
    {
     "name": "stdout",
     "output_type": "stream",
     "text": [
      "[unet_224_n3_fs_jaccard_pretrained test, threshold = 0.22, gauss_div = 6.0625]:\n",
      "MULTICLASS DICE [val = 0.8655918836593628, std = 0.10707821696996689] JACCARD [val = 0.7902051210403442, std = 0.11934401094913483]\n",
      "BINARY DICE [val = 0.9220960736274719, std = 0.16576500236988068] JACCARD [val = 0.8814106583595276, std = 0.17017832398414612]\n",
      "\n"
     ]
    },
    {
     "name": "stderr",
     "output_type": "stream",
     "text": [
      "100%|██████████| 2580/2580 [00:33<00:00, 77.22it/s]\n",
      "100%|██████████| 401/401 [03:25<00:00,  1.95it/s]\n",
      "  0%|          | 0/2580 [00:00<?, ?it/s]"
     ]
    },
    {
     "name": "stdout",
     "output_type": "stream",
     "text": [
      "[unet_224_n3_fs_jaccard_pretrained test, threshold = 0.54, gauss_div = 5.06875]:\n",
      "MULTICLASS DICE [val = 0.8665305972099304, std = 0.10023484379053116] JACCARD [val = 0.7909591197967529, std = 0.11434561014175415]\n",
      "BINARY DICE [val = 0.9205226302146912, std = 0.16512653231620789] JACCARD [val = 0.8786808848381042, std = 0.1702897846698761]\n",
      "\n"
     ]
    },
    {
     "name": "stderr",
     "output_type": "stream",
     "text": [
      "100%|██████████| 2580/2580 [00:33<00:00, 76.63it/s]\n",
      "100%|██████████| 401/401 [03:26<00:00,  1.95it/s]\n",
      "  0%|          | 0/2580 [00:00<?, ?it/s]"
     ]
    },
    {
     "name": "stdout",
     "output_type": "stream",
     "text": [
      "[unet_224_n3_fs_jaccard_pretrained test, threshold = 0.64, gauss_div = 4.571875]:\n",
      "MULTICLASS DICE [val = 0.8668158054351807, std = 0.10018453747034073] JACCARD [val = 0.7914016842842102, std = 0.11423710733652115]\n",
      "BINARY DICE [val = 0.920883059501648, std = 0.16513729095458984] JACCARD [val = 0.879311203956604, std = 0.170277401804924]\n",
      "\n"
     ]
    },
    {
     "name": "stderr",
     "output_type": "stream",
     "text": [
      "100%|██████████| 2580/2580 [00:33<00:00, 76.93it/s]\n",
      "100%|██████████| 401/401 [03:28<00:00,  1.92it/s]\n",
      "  0%|          | 0/2580 [00:00<?, ?it/s]"
     ]
    },
    {
     "name": "stdout",
     "output_type": "stream",
     "text": [
      "[unet_224_n3_fs_jaccard_pretrained test, threshold = 0.7000000000000001, gauss_div = 4.323437500000001]:\n",
      "MULTICLASS DICE [val = 0.8668527007102966, std = 0.1002047210931778] JACCARD [val = 0.7914558053016663, std = 0.11426655203104019]\n",
      "BINARY DICE [val = 0.9209144115447998, std = 0.16530005633831024] JACCARD [val = 0.8793896436691284, std = 0.17042194306850433]\n",
      "\n"
     ]
    },
    {
     "name": "stderr",
     "output_type": "stream",
     "text": [
      "100%|██████████| 2580/2580 [00:33<00:00, 76.13it/s]\n",
      "100%|██████████| 401/401 [03:27<00:00,  1.93it/s]\n",
      "  0%|          | 0/2580 [00:00<?, ?it/s]"
     ]
    },
    {
     "name": "stdout",
     "output_type": "stream",
     "text": [
      "[unet_224_n3_fs_jaccard_pretrained test, threshold = 0.73, gauss_div = 4.19921875]:\n",
      "MULTICLASS DICE [val = 0.8668349385261536, std = 0.10050492733716965] JACCARD [val = 0.7914466857910156, std = 0.11449148505926132]\n",
      "BINARY DICE [val = 0.9209843277931213, std = 0.16530609130859375] JACCARD [val = 0.8795130252838135, std = 0.17042215168476105]\n",
      "\n"
     ]
    },
    {
     "name": "stderr",
     "output_type": "stream",
     "text": [
      "100%|██████████| 2580/2580 [00:33<00:00, 77.31it/s]\n",
      "100%|██████████| 401/401 [03:27<00:00,  1.94it/s]\n",
      "  0%|          | 0/2580 [00:00<?, ?it/s]"
     ]
    },
    {
     "name": "stdout",
     "output_type": "stream",
     "text": [
      "[unet_224_n3_fs_jaccard_pretrained test, threshold = 0.76, gauss_div = 4.137109375]:\n",
      "MULTICLASS DICE [val = 0.866881251335144, std = 0.10012485831975937] JACCARD [val = 0.7914769053459167, std = 0.11417397856712341]\n",
      "BINARY DICE [val = 0.9208457469940186, std = 0.16529902815818787] JACCARD [val = 0.8792721629142761, std = 0.1704365313053131]\n",
      "\n"
     ]
    },
    {
     "name": "stderr",
     "output_type": "stream",
     "text": [
      "100%|██████████| 2580/2580 [00:33<00:00, 77.76it/s]\n",
      "100%|██████████| 401/401 [03:27<00:00,  1.94it/s]\n",
      "  0%|          | 0/2580 [00:00<?, ?it/s]"
     ]
    },
    {
     "name": "stdout",
     "output_type": "stream",
     "text": [
      "[unet_224_n3_fs_jaccard_pretrained test, threshold = 0.77, gauss_div = 4.1060546875]:\n",
      "MULTICLASS DICE [val = 0.866877019405365, std = 0.10015170276165009] JACCARD [val = 0.7914826273918152, std = 0.11420381814241409]\n",
      "BINARY DICE [val = 0.9208461046218872, std = 0.16529598832130432] JACCARD [val = 0.879271388053894, std = 0.170429065823555]\n",
      "\n"
     ]
    },
    {
     "name": "stderr",
     "output_type": "stream",
     "text": [
      "100%|██████████| 2580/2580 [00:33<00:00, 76.89it/s]\n",
      "100%|██████████| 401/401 [03:28<00:00,  1.93it/s]\n",
      "  0%|          | 0/2580 [00:00<?, ?it/s]"
     ]
    },
    {
     "name": "stdout",
     "output_type": "stream",
     "text": [
      "[unet_224_n3_fs_jaccard_pretrained test, threshold = 0.76, gauss_div = 4.090527343750001]:\n",
      "MULTICLASS DICE [val = 0.8668413162231445, std = 0.10052438080310822] JACCARD [val = 0.7914648652076721, std = 0.11451902240514755]\n",
      "BINARY DICE [val = 0.9209923148155212, std = 0.16530060768127441] JACCARD [val = 0.8795250058174133, std = 0.17041102051734924]\n",
      "\n"
     ]
    },
    {
     "name": "stderr",
     "output_type": "stream",
     "text": [
      "100%|██████████| 2580/2580 [00:33<00:00, 77.41it/s]\n",
      "100%|██████████| 401/401 [03:28<00:00,  1.92it/s]\n",
      "  0%|          | 0/2580 [00:00<?, ?it/s]"
     ]
    },
    {
     "name": "stdout",
     "output_type": "stream",
     "text": [
      "[unet_224_n3_fs_jaccard_pretrained test, threshold = 0.76, gauss_div = 4.082763671875]:\n",
      "MULTICLASS DICE [val = 0.8668569326400757, std = 0.10052154958248138] JACCARD [val = 0.7914891839027405, std = 0.11450883746147156]\n",
      "BINARY DICE [val = 0.9210176467895508, std = 0.1653035432100296] JACCARD [val = 0.8795698881149292, std = 0.1704123467206955]\n",
      "\n"
     ]
    },
    {
     "name": "stderr",
     "output_type": "stream",
     "text": [
      "100%|██████████| 2580/2580 [00:33<00:00, 76.84it/s]\n",
      "100%|██████████| 401/401 [03:30<00:00,  1.91it/s]\n",
      "  0%|          | 0/2580 [00:00<?, ?it/s]"
     ]
    },
    {
     "name": "stdout",
     "output_type": "stream",
     "text": [
      "[unet_224_n3_fs_jaccard_pretrained test, threshold = 0.76, gauss_div = 4.0788818359375]:\n",
      "MULTICLASS DICE [val = 0.8668648600578308, std = 0.10050813853740692] JACCARD [val = 0.791500449180603, std = 0.11448802798986435]\n",
      "BINARY DICE [val = 0.921028733253479, std = 0.1653030663728714] JACCARD [val = 0.8795887231826782, std = 0.17040835320949554]\n",
      "\n"
     ]
    },
    {
     "name": "stderr",
     "output_type": "stream",
     "text": [
      "100%|██████████| 2580/2580 [00:33<00:00, 76.00it/s]\n",
      "100%|██████████| 401/401 [03:28<00:00,  1.92it/s]\n",
      "  0%|          | 0/2580 [00:00<?, ?it/s]"
     ]
    },
    {
     "name": "stdout",
     "output_type": "stream",
     "text": [
      "[unet_224_n3_fs_jaccard_pretrained test, threshold = 0.76, gauss_div = 4.07694091796875]:\n",
      "MULTICLASS DICE [val = 0.8668647408485413, std = 0.10050810128450394] JACCARD [val = 0.791499674320221, std = 0.11448872834444046]\n",
      "BINARY DICE [val = 0.9210368990898132, std = 0.16530343890190125] JACCARD [val = 0.8796030282974243, std = 0.17040789127349854]\n",
      "\n"
     ]
    },
    {
     "name": "stderr",
     "output_type": "stream",
     "text": [
      "100%|██████████| 2580/2580 [00:33<00:00, 77.27it/s]\n",
      "100%|██████████| 401/401 [03:32<00:00,  1.89it/s]\n",
      "  0%|          | 0/2580 [00:00<?, ?it/s]"
     ]
    },
    {
     "name": "stdout",
     "output_type": "stream",
     "text": [
      "[unet_224_n3_fs_jaccard_pretrained test, threshold = 0.76, gauss_div = 4.075970458984376]:\n",
      "MULTICLASS DICE [val = 0.8668624758720398, std = 0.10050845891237259] JACCARD [val = 0.7914959192276001, std = 0.11448956280946732]\n",
      "BINARY DICE [val = 0.9210390448570251, std = 0.16530321538448334] JACCARD [val = 0.8796065449714661, std = 0.17040692269802094]\n",
      "\n"
     ]
    },
    {
     "name": "stderr",
     "output_type": "stream",
     "text": [
      "100%|██████████| 2580/2580 [00:33<00:00, 77.19it/s]\n",
      "100%|██████████| 401/401 [03:32<00:00,  1.89it/s]\n",
      "  0%|          | 0/2580 [00:00<?, ?it/s]"
     ]
    },
    {
     "name": "stdout",
     "output_type": "stream",
     "text": [
      "[unet_224_n3_fs_jaccard_pretrained test, threshold = 0.76, gauss_div = 4.0754852294921875]:\n",
      "MULTICLASS DICE [val = 0.8668681383132935, std = 0.10050317645072937] JACCARD [val = 0.7915021181106567, std = 0.11448121070861816]\n",
      "BINARY DICE [val = 0.9210419058799744, std = 0.1653032898902893] JACCARD [val = 0.8796114325523376, std = 0.17040637135505676]\n",
      "\n"
     ]
    },
    {
     "name": "stderr",
     "output_type": "stream",
     "text": [
      "100%|██████████| 2580/2580 [00:33<00:00, 77.53it/s]\n",
      "100%|██████████| 401/401 [03:30<00:00,  1.91it/s]\n",
      "  0%|          | 0/2580 [00:00<?, ?it/s]"
     ]
    },
    {
     "name": "stdout",
     "output_type": "stream",
     "text": [
      "[unet_224_n3_fs_jaccard_pretrained test, threshold = 0.76, gauss_div = 4.075242614746093]:\n",
      "MULTICLASS DICE [val = 0.8668684959411621, std = 0.1005035787820816] JACCARD [val = 0.791502833366394, std = 0.11448215693235397]\n",
      "BINARY DICE [val = 0.9210426211357117, std = 0.1653033345937729] JACCARD [val = 0.8796127438545227, std = 0.17040637135505676]\n",
      "\n"
     ]
    },
    {
     "name": "stderr",
     "output_type": "stream",
     "text": [
      "100%|██████████| 2580/2580 [00:33<00:00, 76.39it/s]\n",
      "100%|██████████| 401/401 [03:33<00:00,  1.88it/s]\n"
     ]
    },
    {
     "name": "stdout",
     "output_type": "stream",
     "text": [
      "[unet_224_n3_fs_jaccard_pretrained test, threshold = 0.76, gauss_div = 4.075121307373047]:\n",
      "MULTICLASS DICE [val = 0.8668707609176636, std = 0.10050071030855179] JACCARD [val = 0.7915048599243164, std = 0.11447925120592117]\n",
      "BINARY DICE [val = 0.9210433959960938, std = 0.16530334949493408] JACCARD [val = 0.879613995552063, std = 0.1704062670469284]\n",
      "\n",
      "Dichotomy result: [unet_224_n3_fs_jaccard_pretrained test, threshold = 0.7599999904632568, gauss_div = 4.074999809265137]:\n",
      "MULTICLASS DICE [val = 0.8668707609176636, std = 0.10050084441900253] JACCARD [val = 0.7915051579475403, std = 0.11447949707508087]\n",
      "BINARY DICE [val = 0.9210439920425415, std = 0.16530348360538483] JACCARD [val = 0.8796152472496033, std = 0.1704065054655075]\n",
      "\n",
      "test gauss_0\n",
      "is_448_complex = False, self.division_coeff = 2\n"
     ]
    },
    {
     "name": "stderr",
     "output_type": "stream",
     "text": [
      "\r",
      "  0%|          | 0/2580 [00:00<?, ?it/s]"
     ]
    },
    {
     "name": "stdout",
     "output_type": "stream",
     "text": [
      "dataloader length = 2580\n",
      "uunet\n",
      "Successfully loaded pretrained weights from \"pretrained/uunet_224_n3_fs_jaccard/snapshots/pretrained.pth.tar\"\n"
     ]
    },
    {
     "name": "stderr",
     "output_type": "stream",
     "text": [
      "100%|██████████| 2580/2580 [00:59<00:00, 43.05it/s]\n",
      "100%|██████████| 401/401 [03:23<00:00,  1.97it/s]\n",
      "100%|██████████| 2580/2580 [00:59<00:00, 43.25it/s]\n",
      "100%|██████████| 401/401 [03:22<00:00,  1.98it/s]\n",
      "100%|██████████| 2580/2580 [00:59<00:00, 43.03it/s]\n",
      "100%|██████████| 401/401 [03:26<00:00,  1.95it/s]\n",
      "  0%|          | 0/2580 [00:00<?, ?it/s]"
     ]
    },
    {
     "name": "stdout",
     "output_type": "stream",
     "text": [
      "[uunet_224_n3_fs_jaccard_pretrained test, threshold = 0.07, gauss_div = 8.05]:\n",
      "MULTICLASS DICE [val = 0.8714083433151245, std = 0.0942518413066864] JACCARD [val = 0.7938949465751648, std = 0.11235048621892929]\n",
      "BINARY DICE [val = 0.9336224794387817, std = 0.12452954798936844] JACCARD [val = 0.8911988735198975, std = 0.13112767040729523]\n",
      "\n"
     ]
    },
    {
     "name": "stderr",
     "output_type": "stream",
     "text": [
      "100%|██████████| 2580/2580 [00:59<00:00, 43.13it/s]\n",
      "100%|██████████| 401/401 [03:28<00:00,  1.93it/s]\n",
      "  0%|          | 0/2580 [00:00<?, ?it/s]"
     ]
    },
    {
     "name": "stdout",
     "output_type": "stream",
     "text": [
      "[uunet_224_n3_fs_jaccard_pretrained test, threshold = 0.77, gauss_div = 4.075]:\n",
      "MULTICLASS DICE [val = 0.8746153116226196, std = 0.09376790374517441] JACCARD [val = 0.7990552186965942, std = 0.11130529642105103]\n",
      "BINARY DICE [val = 0.937536895275116, std = 0.12339361011981964] JACCARD [val = 0.8980496525764465, std = 0.13011017441749573]\n",
      "\n"
     ]
    },
    {
     "name": "stderr",
     "output_type": "stream",
     "text": [
      "100%|██████████| 2580/2580 [01:00<00:00, 42.90it/s]\n",
      "100%|██████████| 401/401 [03:27<00:00,  1.94it/s]\n",
      "  0%|          | 0/2580 [00:00<?, ?it/s]"
     ]
    },
    {
     "name": "stdout",
     "output_type": "stream",
     "text": [
      "[uunet_224_n3_fs_jaccard_pretrained test, threshold = 0.33, gauss_div = 6.0625]:\n",
      "MULTICLASS DICE [val = 0.8740972280502319, std = 0.09392735362052917] JACCARD [val = 0.7981709241867065, std = 0.11184359341859818]\n",
      "BINARY DICE [val = 0.9373007416725159, std = 0.12173350900411606] JACCARD [val = 0.8974034190177917, std = 0.12866120040416718]\n",
      "\n"
     ]
    },
    {
     "name": "stderr",
     "output_type": "stream",
     "text": [
      "100%|██████████| 2580/2580 [00:59<00:00, 43.24it/s]\n",
      "100%|██████████| 401/401 [03:29<00:00,  1.92it/s]\n",
      "  0%|          | 0/2580 [00:00<?, ?it/s]"
     ]
    },
    {
     "name": "stdout",
     "output_type": "stream",
     "text": [
      "[uunet_224_n3_fs_jaccard_pretrained test, threshold = 0.48, gauss_div = 5.06875]:\n",
      "MULTICLASS DICE [val = 0.8745346069335938, std = 0.09369253367185593] JACCARD [val = 0.7988590598106384, std = 0.11119350045919418]\n",
      "BINARY DICE [val = 0.9377049207687378, std = 0.12337341159582138] JACCARD [val = 0.8983243107795715, std = 0.1299188733100891]\n",
      "\n"
     ]
    },
    {
     "name": "stderr",
     "output_type": "stream",
     "text": [
      "100%|██████████| 2580/2580 [00:59<00:00, 43.09it/s]\n",
      "100%|██████████| 401/401 [03:28<00:00,  1.93it/s]\n",
      "  0%|          | 0/2580 [00:00<?, ?it/s]"
     ]
    },
    {
     "name": "stdout",
     "output_type": "stream",
     "text": [
      "[uunet_224_n3_fs_jaccard_pretrained test, threshold = 0.61, gauss_div = 4.571875]:\n",
      "MULTICLASS DICE [val = 0.874599039554596, std = 0.09372356534004211] JACCARD [val = 0.7989978194236755, std = 0.11122815310955048]\n",
      "BINARY DICE [val = 0.9377359747886658, std = 0.12334982305765152] JACCARD [val = 0.8983781337738037, std = 0.1299116462469101]\n",
      "\n"
     ]
    },
    {
     "name": "stderr",
     "output_type": "stream",
     "text": [
      "100%|██████████| 2580/2580 [00:59<00:00, 43.03it/s]\n",
      "100%|██████████| 401/401 [03:32<00:00,  1.89it/s]\n",
      "  0%|          | 0/2580 [00:00<?, ?it/s]"
     ]
    },
    {
     "name": "stdout",
     "output_type": "stream",
     "text": [
      "[uunet_224_n3_fs_jaccard_pretrained test, threshold = 0.68, gauss_div = 4.323437500000001]:\n",
      "MULTICLASS DICE [val = 0.874633252620697, std = 0.09368854016065598] JACCARD [val = 0.7990604639053345, std = 0.11120142042636871]\n",
      "BINARY DICE [val = 0.937674880027771, std = 0.1233668252825737] JACCARD [val = 0.898278534412384, std = 0.1299799680709839]\n",
      "\n"
     ]
    },
    {
     "name": "stderr",
     "output_type": "stream",
     "text": [
      "100%|██████████| 2580/2580 [01:00<00:00, 42.91it/s]\n",
      "100%|██████████| 401/401 [03:31<00:00,  1.90it/s]\n",
      "  0%|          | 0/2580 [00:00<?, ?it/s]"
     ]
    },
    {
     "name": "stdout",
     "output_type": "stream",
     "text": [
      "[uunet_224_n3_fs_jaccard_pretrained test, threshold = 0.72, gauss_div = 4.19921875]:\n",
      "MULTICLASS DICE [val = 0.8746770620346069, std = 0.09368760138750076] JACCARD [val = 0.7991287112236023, std = 0.11119335144758224]\n",
      "BINARY DICE [val = 0.9376564621925354, std = 0.12336398661136627] JACCARD [val = 0.8982464671134949, std = 0.12998832762241364]\n",
      "\n"
     ]
    },
    {
     "name": "stderr",
     "output_type": "stream",
     "text": [
      "100%|██████████| 2580/2580 [00:59<00:00, 43.23it/s]\n",
      "100%|██████████| 401/401 [03:29<00:00,  1.91it/s]\n",
      "  0%|          | 0/2580 [00:00<?, ?it/s]"
     ]
    },
    {
     "name": "stdout",
     "output_type": "stream",
     "text": [
      "[uunet_224_n3_fs_jaccard_pretrained test, threshold = 0.7000000000000001, gauss_div = 4.261328125]:\n",
      "MULTICLASS DICE [val = 0.8746324777603149, std = 0.0936996340751648] JACCARD [val = 0.7990731596946716, std = 0.11121021956205368]\n",
      "BINARY DICE [val = 0.9376811385154724, std = 0.12336206436157227] JACCARD [val = 0.8982881903648376, std = 0.12997205555438995]\n",
      "\n"
     ]
    },
    {
     "name": "stderr",
     "output_type": "stream",
     "text": [
      "100%|██████████| 2580/2580 [01:00<00:00, 42.87it/s]\n",
      "100%|██████████| 401/401 [03:28<00:00,  1.92it/s]\n",
      "  0%|          | 0/2580 [00:00<?, ?it/s]"
     ]
    },
    {
     "name": "stdout",
     "output_type": "stream",
     "text": [
      "[uunet_224_n3_fs_jaccard_pretrained test, threshold = 0.71, gauss_div = 4.2302734375]:\n",
      "MULTICLASS DICE [val = 0.8746718168258667, std = 0.0936722680926323] JACCARD [val = 0.7991138100624084, std = 0.11118447780609131]\n",
      "BINARY DICE [val = 0.9376618266105652, std = 0.12336491793394089] JACCARD [val = 0.8982551097869873, std = 0.1299840211868286]\n",
      "\n"
     ]
    },
    {
     "name": "stderr",
     "output_type": "stream",
     "text": [
      "100%|██████████| 2580/2580 [01:00<00:00, 42.77it/s]\n",
      "100%|██████████| 401/401 [03:29<00:00,  1.91it/s]\n",
      "  0%|          | 0/2580 [00:00<?, ?it/s]"
     ]
    },
    {
     "name": "stdout",
     "output_type": "stream",
     "text": [
      "[uunet_224_n3_fs_jaccard_pretrained test, threshold = 0.72, gauss_div = 4.21474609375]:\n",
      "MULTICLASS DICE [val = 0.8746336102485657, std = 0.09372404217720032] JACCARD [val = 0.7990688681602478, std = 0.11125528067350388]\n",
      "BINARY DICE [val = 0.9376009702682495, std = 0.12337645143270493] JACCARD [val = 0.8981528878211975, std = 0.13003243505954742]\n",
      "\n"
     ]
    },
    {
     "name": "stderr",
     "output_type": "stream",
     "text": [
      "100%|██████████| 2580/2580 [01:00<00:00, 42.94it/s]\n",
      "100%|██████████| 401/401 [03:28<00:00,  1.92it/s]\n",
      "  0%|          | 0/2580 [00:00<?, ?it/s]"
     ]
    },
    {
     "name": "stdout",
     "output_type": "stream",
     "text": [
      "[uunet_224_n3_fs_jaccard_pretrained test, threshold = 0.72, gauss_div = 4.206982421875]:\n",
      "MULTICLASS DICE [val = 0.8746359348297119, std = 0.09372550249099731] JACCARD [val = 0.7990730404853821, std = 0.11125428229570389]\n",
      "BINARY DICE [val = 0.9376148581504822, std = 0.12337616086006165] JACCARD [val = 0.8981773853302002, std = 0.13002805411815643]\n",
      "\n"
     ]
    },
    {
     "name": "stderr",
     "output_type": "stream",
     "text": [
      "100%|██████████| 2580/2580 [00:59<00:00, 43.11it/s]\n",
      "100%|██████████| 401/401 [03:29<00:00,  1.92it/s]\n",
      "  0%|          | 0/2580 [00:00<?, ?it/s]"
     ]
    },
    {
     "name": "stdout",
     "output_type": "stream",
     "text": [
      "[uunet_224_n3_fs_jaccard_pretrained test, threshold = 0.72, gauss_div = 4.2031005859375]:\n",
      "MULTICLASS DICE [val = 0.8746630549430847, std = 0.09370486438274384] JACCARD [val = 0.799110472202301, std = 0.11121968924999237]\n",
      "BINARY DICE [val = 0.9376397132873535, std = 0.12337241321802139] JACCARD [val = 0.8982199430465698, std = 0.13001318275928497]\n",
      "\n"
     ]
    },
    {
     "name": "stderr",
     "output_type": "stream",
     "text": [
      "100%|██████████| 2580/2580 [00:59<00:00, 43.34it/s]\n",
      "100%|██████████| 401/401 [03:29<00:00,  1.92it/s]\n",
      "  0%|          | 0/2580 [00:00<?, ?it/s]"
     ]
    },
    {
     "name": "stdout",
     "output_type": "stream",
     "text": [
      "[uunet_224_n3_fs_jaccard_pretrained test, threshold = 0.72, gauss_div = 4.20115966796875]:\n",
      "MULTICLASS DICE [val = 0.8746633529663086, std = 0.09370467811822891] JACCARD [val = 0.7991113066673279, std = 0.11121847480535507]\n",
      "BINARY DICE [val = 0.9376433491706848, std = 0.12337099760770798] JACCARD [val = 0.8982258439064026, std = 0.13000869750976562]\n",
      "\n"
     ]
    },
    {
     "name": "stderr",
     "output_type": "stream",
     "text": [
      "100%|██████████| 2580/2580 [00:59<00:00, 43.14it/s]\n",
      "100%|██████████| 401/401 [03:26<00:00,  1.94it/s]\n",
      "  0%|          | 0/2580 [00:00<?, ?it/s]"
     ]
    },
    {
     "name": "stdout",
     "output_type": "stream",
     "text": [
      "[uunet_224_n3_fs_jaccard_pretrained test, threshold = 0.72, gauss_div = 4.200189208984375]:\n",
      "MULTICLASS DICE [val = 0.8746650218963623, std = 0.09370377659797668] JACCARD [val = 0.7991141080856323, std = 0.11121630668640137]\n",
      "BINARY DICE [val = 0.9376463890075684, std = 0.12337040901184082] JACCARD [val = 0.8982309699058533, std = 0.1300063133239746]\n",
      "\n"
     ]
    },
    {
     "name": "stderr",
     "output_type": "stream",
     "text": [
      "100%|██████████| 2580/2580 [01:00<00:00, 42.82it/s]\n",
      "100%|██████████| 401/401 [03:31<00:00,  1.90it/s]\n",
      "  0%|          | 0/2580 [00:00<?, ?it/s]"
     ]
    },
    {
     "name": "stdout",
     "output_type": "stream",
     "text": [
      "[uunet_224_n3_fs_jaccard_pretrained test, threshold = 0.72, gauss_div = 4.199703979492187]:\n",
      "MULTICLASS DICE [val = 0.874676525592804, std = 0.09368803352117538] JACCARD [val = 0.7991282343864441, std = 0.1111944243311882]\n",
      "BINARY DICE [val = 0.9376569986343384, std = 0.12336423248052597] JACCARD [val = 0.8982473015785217, std = 0.12998905777931213]\n",
      "\n"
     ]
    },
    {
     "name": "stderr",
     "output_type": "stream",
     "text": [
      "100%|██████████| 2580/2580 [00:59<00:00, 43.30it/s]\n",
      "100%|██████████| 401/401 [03:28<00:00,  1.92it/s]\n",
      "  0%|          | 0/2580 [00:00<?, ?it/s]"
     ]
    },
    {
     "name": "stdout",
     "output_type": "stream",
     "text": [
      "[uunet_224_n3_fs_jaccard_pretrained test, threshold = 0.72, gauss_div = 4.199461364746094]:\n",
      "MULTICLASS DICE [val = 0.8746772408485413, std = 0.0936877429485321] JACCARD [val = 0.799129068851471, std = 0.11119367927312851]\n",
      "BINARY DICE [val = 0.937656819820404, std = 0.12336411327123642] JACCARD [val = 0.8982471823692322, std = 0.1299886703491211]\n",
      "\n"
     ]
    },
    {
     "name": "stderr",
     "output_type": "stream",
     "text": [
      "100%|██████████| 2580/2580 [01:00<00:00, 42.87it/s]\n",
      "100%|██████████| 401/401 [03:28<00:00,  1.92it/s]\n"
     ]
    },
    {
     "name": "stdout",
     "output_type": "stream",
     "text": [
      "[uunet_224_n3_fs_jaccard_pretrained test, threshold = 0.72, gauss_div = 4.199340057373047]:\n",
      "MULTICLASS DICE [val = 0.8746770620346069, std = 0.09368760138750076] JACCARD [val = 0.7991287112236023, std = 0.11119335144758224]\n",
      "BINARY DICE [val = 0.9376564621925354, std = 0.12336398661136627] JACCARD [val = 0.8982464671134949, std = 0.12998832762241364]\n",
      "\n",
      "Dichotomy result: [uunet_224_n3_fs_jaccard_pretrained test, threshold = 0.7200000286102295, gauss_div = 4.199461460113525]:\n",
      "MULTICLASS DICE [val = 0.8746772408485413, std = 0.0936877429485321] JACCARD [val = 0.799129068851471, std = 0.11119367927312851]\n",
      "BINARY DICE [val = 0.937656819820404, std = 0.12336411327123642] JACCARD [val = 0.8982471823692322, std = 0.1299886703491211]\n",
      "\n",
      "test gauss_0\n",
      "is_448_complex = False, self.division_coeff = 2\n"
     ]
    },
    {
     "name": "stderr",
     "output_type": "stream",
     "text": [
      "\r",
      "  0%|          | 0/2580 [00:00<?, ?it/s]"
     ]
    },
    {
     "name": "stdout",
     "output_type": "stream",
     "text": [
      "dataloader length = 2580\n",
      "wuunet\n",
      "Successfully loaded pretrained weights from \"pretrained/wuunet_224_n3_fs_jaccard/snapshots/pretrained.pth.tar\"\n"
     ]
    },
    {
     "name": "stderr",
     "output_type": "stream",
     "text": [
      "100%|██████████| 2580/2580 [01:04<00:00, 39.87it/s]\n",
      "100%|██████████| 401/401 [03:25<00:00,  1.95it/s]\n",
      "100%|██████████| 2580/2580 [01:04<00:00, 40.04it/s]\n",
      "100%|██████████| 401/401 [03:21<00:00,  1.99it/s]\n",
      "100%|██████████| 2580/2580 [01:05<00:00, 39.67it/s]\n",
      "100%|██████████| 401/401 [03:26<00:00,  1.94it/s]\n",
      "  0%|          | 0/2580 [00:00<?, ?it/s]"
     ]
    },
    {
     "name": "stdout",
     "output_type": "stream",
     "text": [
      "[wuunet_224_n3_fs_jaccard_pretrained test, threshold = 0.06, gauss_div = 8.05]:\n",
      "MULTICLASS DICE [val = 0.8724896311759949, std = 0.09770271927118301] JACCARD [val = 0.7935867309570312, std = 0.12006919085979462]\n",
      "BINARY DICE [val = 0.9481734037399292, std = 0.0442667193710804] JACCARD [val = 0.904547929763794, std = 0.0738113522529602]\n",
      "\n"
     ]
    },
    {
     "name": "stderr",
     "output_type": "stream",
     "text": [
      "100%|██████████| 2580/2580 [01:04<00:00, 39.71it/s]\n",
      "100%|██████████| 401/401 [03:23<00:00,  1.97it/s]\n",
      "  0%|          | 0/2580 [00:00<?, ?it/s]"
     ]
    },
    {
     "name": "stdout",
     "output_type": "stream",
     "text": [
      "[wuunet_224_n3_fs_jaccard_pretrained test, threshold = 0.8300000000000001, gauss_div = 4.075]:\n",
      "MULTICLASS DICE [val = 0.8783941268920898, std = 0.08981653302907944] JACCARD [val = 0.801978349685669, std = 0.11290853470563889]\n",
      "BINARY DICE [val = 0.9533155560493469, std = 0.040024273097515106] JACCARD [val = 0.9133923649787903, std = 0.06813739985227585]\n",
      "\n"
     ]
    },
    {
     "name": "stderr",
     "output_type": "stream",
     "text": [
      "100%|██████████| 2580/2580 [01:05<00:00, 39.67it/s]\n",
      "100%|██████████| 401/401 [03:28<00:00,  1.92it/s]\n",
      "  0%|          | 0/2580 [00:00<?, ?it/s]"
     ]
    },
    {
     "name": "stdout",
     "output_type": "stream",
     "text": [
      "[wuunet_224_n3_fs_jaccard_pretrained test, threshold = 1.44, gauss_div = 2.0875]:\n",
      "MULTICLASS DICE [val = 0.8779951333999634, std = 0.08847269415855408] JACCARD [val = 0.8012141585350037, std = 0.1122150793671608]\n",
      "BINARY DICE [val = 0.9526582956314087, std = 0.040022317320108414] JACCARD [val = 0.912199854850769, std = 0.06834624707698822]\n",
      "\n"
     ]
    },
    {
     "name": "stderr",
     "output_type": "stream",
     "text": [
      "100%|██████████| 2580/2580 [01:04<00:00, 39.76it/s]\n",
      "100%|██████████| 401/401 [03:29<00:00,  1.91it/s]\n",
      "  0%|          | 0/2580 [00:00<?, ?it/s]"
     ]
    },
    {
     "name": "stdout",
     "output_type": "stream",
     "text": [
      "[wuunet_224_n3_fs_jaccard_pretrained test, threshold = 1.09, gauss_div = 3.08125]:\n",
      "MULTICLASS DICE [val = 0.8782070279121399, std = 0.08850789815187454] JACCARD [val = 0.8015583157539368, std = 0.11229685693979263]\n",
      "BINARY DICE [val = 0.952879786491394, std = 0.04013730585575104] JACCARD [val = 0.9126155972480774, std = 0.06844981759786606]\n",
      "\n"
     ]
    },
    {
     "name": "stderr",
     "output_type": "stream",
     "text": [
      "100%|██████████| 2580/2580 [01:05<00:00, 39.65it/s]\n",
      "100%|██████████| 401/401 [03:30<00:00,  1.90it/s]\n",
      "  0%|          | 0/2580 [00:00<?, ?it/s]"
     ]
    },
    {
     "name": "stdout",
     "output_type": "stream",
     "text": [
      "[wuunet_224_n3_fs_jaccard_pretrained test, threshold = 0.96, gauss_div = 3.578125]:\n",
      "MULTICLASS DICE [val = 0.8785611391067505, std = 0.08811932057142258] JACCARD [val = 0.8021005392074585, std = 0.11169087141752243]\n",
      "BINARY DICE [val = 0.953259289264679, std = 0.039828330278396606] JACCARD [val = 0.9132668972015381, std = 0.0678766742348671]\n",
      "\n"
     ]
    },
    {
     "name": "stderr",
     "output_type": "stream",
     "text": [
      "100%|██████████| 2580/2580 [01:05<00:00, 39.59it/s]\n",
      "100%|██████████| 401/401 [03:29<00:00,  1.91it/s]\n",
      "  0%|          | 0/2580 [00:00<?, ?it/s]"
     ]
    },
    {
     "name": "stdout",
     "output_type": "stream",
     "text": [
      "[wuunet_224_n3_fs_jaccard_pretrained test, threshold = 0.89, gauss_div = 3.8265625]:\n",
      "MULTICLASS DICE [val = 0.8787400126457214, std = 0.08796153217554092] JACCARD [val = 0.8023355007171631, std = 0.11149896681308746]\n",
      "BINARY DICE [val = 0.9533774852752686, std = 0.039887867867946625] JACCARD [val = 0.9134892225265503, std = 0.06793645769357681]\n",
      "\n"
     ]
    },
    {
     "name": "stderr",
     "output_type": "stream",
     "text": [
      "100%|██████████| 2580/2580 [01:05<00:00, 39.27it/s]\n",
      "100%|██████████| 401/401 [03:31<00:00,  1.90it/s]\n",
      "  0%|          | 0/2580 [00:00<?, ?it/s]"
     ]
    },
    {
     "name": "stdout",
     "output_type": "stream",
     "text": [
      "[wuunet_224_n3_fs_jaccard_pretrained test, threshold = 0.92, gauss_div = 3.70234375]:\n",
      "MULTICLASS DICE [val = 0.8786419034004211, std = 0.08805495500564575] JACCARD [val = 0.8022130727767944, std = 0.11158370971679688]\n",
      "BINARY DICE [val = 0.9533718228340149, std = 0.03979937359690666] JACCARD [val = 0.9134676456451416, std = 0.06779734790325165]\n",
      "\n"
     ]
    },
    {
     "name": "stderr",
     "output_type": "stream",
     "text": [
      "100%|██████████| 2580/2580 [01:04<00:00, 39.97it/s]\n",
      "100%|██████████| 401/401 [03:27<00:00,  1.93it/s]\n",
      "  0%|          | 0/2580 [00:00<?, ?it/s]"
     ]
    },
    {
     "name": "stdout",
     "output_type": "stream",
     "text": [
      "[wuunet_224_n3_fs_jaccard_pretrained test, threshold = 0.91, gauss_div = 3.764453125]:\n",
      "MULTICLASS DICE [val = 0.8786953091621399, std = 0.08802308142185211] JACCARD [val = 0.8022833466529846, std = 0.11157343536615372]\n",
      "BINARY DICE [val = 0.9533600807189941, std = 0.03983445465564728] JACCARD [val = 0.9134508967399597, std = 0.06785816699266434]\n",
      "\n"
     ]
    },
    {
     "name": "stderr",
     "output_type": "stream",
     "text": [
      "100%|██████████| 2580/2580 [01:05<00:00, 39.65it/s]\n",
      "100%|██████████| 401/401 [03:27<00:00,  1.94it/s]\n",
      "  0%|          | 0/2580 [00:00<?, ?it/s]"
     ]
    },
    {
     "name": "stdout",
     "output_type": "stream",
     "text": [
      "[wuunet_224_n3_fs_jaccard_pretrained test, threshold = 0.9, gauss_div = 3.7955078125000004]:\n",
      "MULTICLASS DICE [val = 0.8787475228309631, std = 0.08796214312314987] JACCARD [val = 0.8023524880409241, std = 0.11148250848054886]\n",
      "BINARY DICE [val = 0.9533822536468506, std = 0.039862070232629776] JACCARD [val = 0.9134946465492249, std = 0.0678955540060997]\n",
      "\n"
     ]
    },
    {
     "name": "stderr",
     "output_type": "stream",
     "text": [
      "100%|██████████| 2580/2580 [01:05<00:00, 39.62it/s]\n",
      "100%|██████████| 401/401 [03:29<00:00,  1.91it/s]\n",
      "  0%|          | 0/2580 [00:00<?, ?it/s]"
     ]
    },
    {
     "name": "stdout",
     "output_type": "stream",
     "text": [
      "[wuunet_224_n3_fs_jaccard_pretrained test, threshold = 0.9, gauss_div = 3.81103515625]:\n",
      "MULTICLASS DICE [val = 0.8787098526954651, std = 0.08798380941152573] JACCARD [val = 0.8022937178611755, std = 0.1115250289440155]\n",
      "BINARY DICE [val = 0.9533309936523438, std = 0.039880603551864624] JACCARD [val = 0.9134035110473633, std = 0.06792886555194855]\n",
      "\n"
     ]
    },
    {
     "name": "stderr",
     "output_type": "stream",
     "text": [
      "100%|██████████| 2580/2580 [01:04<00:00, 40.03it/s]\n",
      "100%|██████████| 401/401 [03:28<00:00,  1.93it/s]\n",
      "  0%|          | 0/2580 [00:00<?, ?it/s]"
     ]
    },
    {
     "name": "stdout",
     "output_type": "stream",
     "text": [
      "[wuunet_224_n3_fs_jaccard_pretrained test, threshold = 0.9, gauss_div = 3.803271484375]:\n",
      "MULTICLASS DICE [val = 0.878728985786438, std = 0.0879586935043335] JACCARD [val = 0.802319347858429, std = 0.11148937791585922]\n",
      "BINARY DICE [val = 0.9533651471138, std = 0.039856668561697006] JACCARD [val = 0.9134628176689148, std = 0.06789261102676392]\n",
      "\n"
     ]
    },
    {
     "name": "stderr",
     "output_type": "stream",
     "text": [
      "100%|██████████| 2580/2580 [01:05<00:00, 39.24it/s]\n",
      "100%|██████████| 401/401 [03:30<00:00,  1.90it/s]\n",
      "  0%|          | 0/2580 [00:00<?, ?it/s]"
     ]
    },
    {
     "name": "stdout",
     "output_type": "stream",
     "text": [
      "[wuunet_224_n3_fs_jaccard_pretrained test, threshold = 0.9, gauss_div = 3.7993896484375003]:\n",
      "MULTICLASS DICE [val = 0.8787366151809692, std = 0.08795924484729767] JACCARD [val = 0.8023351430892944, std = 0.11148292571306229]\n",
      "BINARY DICE [val = 0.953376054763794, std = 0.03986687213182449] JACCARD [val = 0.9134839773178101, std = 0.06790543347597122]\n",
      "\n"
     ]
    },
    {
     "name": "stderr",
     "output_type": "stream",
     "text": [
      "100%|██████████| 2580/2580 [01:05<00:00, 39.55it/s]\n",
      "100%|██████████| 401/401 [03:32<00:00,  1.88it/s]\n",
      "  0%|          | 0/2580 [00:00<?, ?it/s]"
     ]
    },
    {
     "name": "stdout",
     "output_type": "stream",
     "text": [
      "[wuunet_224_n3_fs_jaccard_pretrained test, threshold = 0.9, gauss_div = 3.7974487304687505]:\n",
      "MULTICLASS DICE [val = 0.8787471055984497, std = 0.08795437216758728] JACCARD [val = 0.8023495078086853, std = 0.11147427558898926]\n",
      "BINARY DICE [val = 0.9533825516700745, std = 0.03986397758126259] JACCARD [val = 0.9134954214096069, std = 0.06789999455213547]\n",
      "\n"
     ]
    },
    {
     "name": "stderr",
     "output_type": "stream",
     "text": [
      "100%|██████████| 2580/2580 [01:05<00:00, 39.53it/s]\n",
      "100%|██████████| 401/401 [03:30<00:00,  1.90it/s]\n",
      "  0%|          | 0/2580 [00:00<?, ?it/s]"
     ]
    },
    {
     "name": "stdout",
     "output_type": "stream",
     "text": [
      "[wuunet_224_n3_fs_jaccard_pretrained test, threshold = 0.9, gauss_div = 3.7964782714843754]:\n",
      "MULTICLASS DICE [val = 0.8787453174591064, std = 0.08796023577451706] JACCARD [val = 0.802348792552948, std = 0.11147945374250412]\n",
      "BINARY DICE [val = 0.9533827900886536, std = 0.03986172005534172] JACCARD [val = 0.9134957194328308, std = 0.06789497286081314]\n",
      "\n"
     ]
    },
    {
     "name": "stderr",
     "output_type": "stream",
     "text": [
      "100%|██████████| 2580/2580 [01:05<00:00, 39.52it/s]\n",
      "100%|██████████| 401/401 [03:27<00:00,  1.93it/s]\n",
      "  0%|          | 0/2580 [00:00<?, ?it/s]"
     ]
    },
    {
     "name": "stdout",
     "output_type": "stream",
     "text": [
      "[wuunet_224_n3_fs_jaccard_pretrained test, threshold = 0.9, gauss_div = 3.7959930419921877]:\n",
      "MULTICLASS DICE [val = 0.8787441849708557, std = 0.08796007186174393] JACCARD [val = 0.8023472428321838, std = 0.11147935688495636]\n",
      "BINARY DICE [val = 0.9533816576004028, std = 0.03986070677638054] JACCARD [val = 0.9134933352470398, std = 0.06789319217205048]\n",
      "\n"
     ]
    },
    {
     "name": "stderr",
     "output_type": "stream",
     "text": [
      "100%|██████████| 2580/2580 [01:05<00:00, 39.69it/s]\n",
      "100%|██████████| 401/401 [03:27<00:00,  1.93it/s]\n",
      "  0%|          | 0/2580 [00:00<?, ?it/s]"
     ]
    },
    {
     "name": "stdout",
     "output_type": "stream",
     "text": [
      "[wuunet_224_n3_fs_jaccard_pretrained test, threshold = 0.9, gauss_div = 3.795750427246094]:\n",
      "MULTICLASS DICE [val = 0.8787438273429871, std = 0.08795998245477676] JACCARD [val = 0.8023465275764465, std = 0.11147899180650711]\n",
      "BINARY DICE [val = 0.9533820748329163, std = 0.039861828088760376] JACCARD [val = 0.9134942889213562, std = 0.06789509207010269]\n",
      "\n"
     ]
    },
    {
     "name": "stderr",
     "output_type": "stream",
     "text": [
      "100%|██████████| 2580/2580 [01:05<00:00, 39.56it/s]\n",
      "100%|██████████| 401/401 [03:28<00:00,  1.92it/s]"
     ]
    },
    {
     "name": "stdout",
     "output_type": "stream",
     "text": [
      "[wuunet_224_n3_fs_jaccard_pretrained test, threshold = 0.9, gauss_div = 3.7956291198730474]:\n",
      "MULTICLASS DICE [val = 0.8787429928779602, std = 0.08796008676290512] JACCARD [val = 0.8023451566696167, std = 0.1114792674779892]\n",
      "BINARY DICE [val = 0.9533815383911133, std = 0.039862170815467834] JACCARD [val = 0.9134933948516846, std = 0.06789574772119522]\n",
      "\n",
      "Dichotomy result: [wuunet_224_n3_fs_jaccard_pretrained test, threshold = 0.8999999761581421, gauss_div = 3.7955079078674316]:\n",
      "MULTICLASS DICE [val = 0.8787475228309631, std = 0.08796214312314987] JACCARD [val = 0.8023524880409241, std = 0.11148250848054886]\n",
      "BINARY DICE [val = 0.9533822536468506, std = 0.039862070232629776] JACCARD [val = 0.9134946465492249, std = 0.0678955540060997]\n",
      "\n"
     ]
    },
    {
     "name": "stderr",
     "output_type": "stream",
     "text": [
      "\n"
     ]
    }
   ],
   "source": [
    "ML_MODELS = [\n",
    "    'unet_224_n3_fs_jaccard',\n",
    "    'uunet_224_n3_fs_jaccard',\n",
    "    'wuunet_224_n3_fs_jaccard'\n",
    "]\n",
    "\n",
    "INPUT_SIZE = (224, 224)\n",
    "\n",
    "DATASET_VARIANTS = ['test']  #['train_test']\n",
    "\n",
    "COMBINATION_TYPES = ['gauss_0']\n",
    "print(COMBINATION_TYPES)\n",
    "\n",
    "VARIANTS = {\n",
    "    'unet_224_n3_fs_jaccard':   ['pretrained'],  #['mult_trainval_acc', 'loss']\n",
    "    'uunet_224_n3_fs_jaccard':  ['pretrained'],  #['mult_acc', 'mult_loss', 'mult_trainval_acc']\n",
    "    'wuunet_224_n3_fs_jaccard': ['pretrained']   #['mult_acc', 'mult_loss', 'mult_trainval_acc']\n",
    "}\n",
    "\n",
    "for dataset_variant in DATASET_VARIANTS:\n",
    "    for comb_type in COMBINATION_TYPES:\n",
    "        for ml_model_name in ML_MODELS:\n",
    "            print(dataset_variant, comb_type)\n",
    "            validation = Validation(dataset_variant, comb_type, input_size=INPUT_SIZE)\n",
    "            for snapshot_variant in VARIANTS[ml_model_name]:\n",
    "                validation.gauss_dichotomy(ml_model_name, snapshot_variant)"
   ]
  },
  {
   "cell_type": "markdown",
   "metadata": {},
   "source": [
    "# Fullsize 224x224 Gauss dichotomy (train_test)"
   ]
  },
  {
   "cell_type": "code",
   "execution_count": 8,
   "metadata": {},
   "outputs": [
    {
     "name": "stdout",
     "output_type": "stream",
     "text": [
      "['gauss_0']\n",
      "train_test gauss_0\n",
      "is_448_complex = False, self.division_coeff = 2\n"
     ]
    },
    {
     "name": "stderr",
     "output_type": "stream",
     "text": [
      "\r",
      "  0%|          | 0/6250 [00:00<?, ?it/s]"
     ]
    },
    {
     "name": "stdout",
     "output_type": "stream",
     "text": [
      "dataloader length = 6250\n",
      "unet\n",
      "Successfully loaded pretrained weights from \"pretrained/unet_224_n3_fs_jaccard/snapshots/pretrained.pth.tar\"\n"
     ]
    },
    {
     "name": "stderr",
     "output_type": "stream",
     "text": [
      "100%|██████████| 6250/6250 [01:20<00:00, 77.48it/s]\n",
      "100%|██████████| 401/401 [08:12<00:00,  1.23s/it]\n",
      "100%|██████████| 6250/6250 [01:20<00:00, 77.45it/s]\n",
      "100%|██████████| 401/401 [08:07<00:00,  1.22s/it]\n",
      "100%|██████████| 6250/6250 [01:21<00:00, 76.83it/s]\n",
      "100%|██████████| 401/401 [08:11<00:00,  1.23s/it]\n",
      "  0%|          | 0/6250 [00:00<?, ?it/s]"
     ]
    },
    {
     "name": "stdout",
     "output_type": "stream",
     "text": [
      "[unet_224_n3_fs_jaccard_pretrained train_test, threshold = 0.06, gauss_div = 8.05]:\n",
      "MULTICLASS DICE [val = 0.8809447288513184, std = 0.09988883137702942] JACCARD [val = 0.8136846423149109, std = 0.12568476796150208]\n",
      "BINARY DICE [val = 0.9284936189651489, std = 0.12211857736110687] JACCARD [val = 0.8839854001998901, std = 0.13489125669002533]\n",
      "\n"
     ]
    },
    {
     "name": "stderr",
     "output_type": "stream",
     "text": [
      "100%|██████████| 6250/6250 [01:20<00:00, 77.77it/s]\n",
      " 97%|█████████▋| 389/401 [07:58<00:14,  1.23s/it]\n"
     ]
    },
    {
     "ename": "KeyboardInterrupt",
     "evalue": "",
     "output_type": "error",
     "traceback": [
      "\u001b[0;31m---------------------------------------------------------------------------\u001b[0m",
      "\u001b[0;31mKeyboardInterrupt\u001b[0m                         Traceback (most recent call last)",
      "\u001b[0;32m<ipython-input-8-d7676bb7d185>\u001b[0m in \u001b[0;36m<module>\u001b[0;34m\u001b[0m\n\u001b[1;32m     24\u001b[0m             \u001b[0mvalidation\u001b[0m \u001b[0;34m=\u001b[0m \u001b[0mValidation\u001b[0m\u001b[0;34m(\u001b[0m\u001b[0mdataset_variant\u001b[0m\u001b[0;34m,\u001b[0m \u001b[0mcomb_type\u001b[0m\u001b[0;34m,\u001b[0m \u001b[0minput_size\u001b[0m\u001b[0;34m=\u001b[0m\u001b[0mINPUT_SIZE\u001b[0m\u001b[0;34m)\u001b[0m\u001b[0;34m\u001b[0m\u001b[0;34m\u001b[0m\u001b[0m\n\u001b[1;32m     25\u001b[0m             \u001b[0;32mfor\u001b[0m \u001b[0msnapshot_variant\u001b[0m \u001b[0;32min\u001b[0m \u001b[0mVARIANTS\u001b[0m\u001b[0;34m[\u001b[0m\u001b[0mml_model_name\u001b[0m\u001b[0;34m]\u001b[0m\u001b[0;34m:\u001b[0m\u001b[0;34m\u001b[0m\u001b[0;34m\u001b[0m\u001b[0m\n\u001b[0;32m---> 26\u001b[0;31m                 \u001b[0mvalidation\u001b[0m\u001b[0;34m.\u001b[0m\u001b[0mgauss_dichotomy\u001b[0m\u001b[0;34m(\u001b[0m\u001b[0mml_model_name\u001b[0m\u001b[0;34m,\u001b[0m \u001b[0msnapshot_variant\u001b[0m\u001b[0;34m)\u001b[0m\u001b[0;34m\u001b[0m\u001b[0;34m\u001b[0m\u001b[0m\n\u001b[0m",
      "\u001b[0;32m~/workspace/development/wUUNet_fireSegm/validation.py\u001b[0m in \u001b[0;36mgauss_dichotomy\u001b[0;34m(self, ml_model_name, snapshot_variant)\u001b[0m\n\u001b[1;32m    514\u001b[0m             \u001b[0;32mwhile\u001b[0m \u001b[0mabs\u001b[0m\u001b[0;34m(\u001b[0m\u001b[0mgdiv_b\u001b[0m \u001b[0;34m-\u001b[0m \u001b[0mgdiv_a\u001b[0m\u001b[0;34m)\u001b[0m \u001b[0;34m>\u001b[0m \u001b[0;36m2\u001b[0m \u001b[0;34m*\u001b[0m \u001b[0meps\u001b[0m\u001b[0;34m:\u001b[0m\u001b[0;34m\u001b[0m\u001b[0;34m\u001b[0m\u001b[0m\n\u001b[1;32m    515\u001b[0m                 \u001b[0mgdiv_c\u001b[0m \u001b[0;34m=\u001b[0m \u001b[0;34m(\u001b[0m\u001b[0mgdiv_a\u001b[0m \u001b[0;34m+\u001b[0m \u001b[0mgdiv_b\u001b[0m\u001b[0;34m)\u001b[0m \u001b[0;34m/\u001b[0m \u001b[0;36m2\u001b[0m\u001b[0;34m\u001b[0m\u001b[0;34m\u001b[0m\u001b[0m\n\u001b[0;32m--> 516\u001b[0;31m                 best_thr_c, dmc, std_dmc, jmc, std_jmc, dbc, std_dbc, jbc, std_jbc = self.calc_best_thr(\n\u001b[0m\u001b[1;32m    517\u001b[0m                     \u001b[0mmodel\u001b[0m\u001b[0;34m,\u001b[0m \u001b[0mml_model_name\u001b[0m\u001b[0;34m,\u001b[0m \u001b[0msnapshot_variant\u001b[0m\u001b[0;34m,\u001b[0m \u001b[0mdl_test\u001b[0m\u001b[0;34m,\u001b[0m \u001b[0mnum_classes\u001b[0m\u001b[0;34m,\u001b[0m \u001b[0mgdiv_c\u001b[0m\u001b[0;34m\u001b[0m\u001b[0;34m\u001b[0m\u001b[0m\n\u001b[1;32m    518\u001b[0m                 )\n",
      "\u001b[0;32m~/workspace/development/wUUNet_fireSegm/validation.py\u001b[0m in \u001b[0;36mcalc_best_thr\u001b[0;34m(self, model, model_name, snapshot_variant, dl_test, num_classes, gauss_div)\u001b[0m\n\u001b[1;32m    483\u001b[0m         )\n\u001b[1;32m    484\u001b[0m         \u001b[0mdm_mean\u001b[0m\u001b[0;34m,\u001b[0m \u001b[0mdm_std\u001b[0m\u001b[0;34m,\u001b[0m \u001b[0mjm_mean\u001b[0m\u001b[0;34m,\u001b[0m \u001b[0mjm_std\u001b[0m\u001b[0;34m,\u001b[0m\u001b[0;31m \u001b[0m\u001b[0;31m\\\u001b[0m\u001b[0;34m\u001b[0m\u001b[0;34m\u001b[0m\u001b[0m\n\u001b[0;32m--> 485\u001b[0;31m         db_mean, db_std, jb_mean, jb_std, samples_num = self.get_thresholded_metrics(\n\u001b[0m\u001b[1;32m    486\u001b[0m             model_name, snapshot_variant, samples_num)\n\u001b[1;32m    487\u001b[0m         \u001b[0mbest_thr_id\u001b[0m \u001b[0;34m=\u001b[0m \u001b[0mnp\u001b[0m\u001b[0;34m.\u001b[0m\u001b[0margmax\u001b[0m\u001b[0;34m(\u001b[0m\u001b[0mjm_mean\u001b[0m\u001b[0;34m)\u001b[0m\u001b[0;34m\u001b[0m\u001b[0;34m\u001b[0m\u001b[0m\n",
      "\u001b[0;32m~/workspace/development/wUUNet_fireSegm/validation.py\u001b[0m in \u001b[0;36mget_thresholded_metrics\u001b[0;34m(self, model_name, snapshot_variant, samples_num)\u001b[0m\n\u001b[1;32m    144\u001b[0m         \u001b[0;32mfor\u001b[0m \u001b[0mi\u001b[0m\u001b[0;34m,\u001b[0m \u001b[0mthreshold\u001b[0m \u001b[0;32min\u001b[0m \u001b[0menumerate\u001b[0m\u001b[0;34m(\u001b[0m\u001b[0mtqdm\u001b[0m\u001b[0;34m(\u001b[0m\u001b[0mself\u001b[0m\u001b[0;34m.\u001b[0m\u001b[0mactivation_thrs\u001b[0m\u001b[0;34m)\u001b[0m\u001b[0;34m)\u001b[0m\u001b[0;34m:\u001b[0m\u001b[0;34m\u001b[0m\u001b[0;34m\u001b[0m\u001b[0m\n\u001b[1;32m    145\u001b[0m             \u001b[0mdice_mult_mean\u001b[0m\u001b[0;34m[\u001b[0m\u001b[0mi\u001b[0m\u001b[0;34m]\u001b[0m\u001b[0;34m,\u001b[0m \u001b[0mdice_mult_std\u001b[0m\u001b[0;34m[\u001b[0m\u001b[0mi\u001b[0m\u001b[0;34m]\u001b[0m\u001b[0;34m,\u001b[0m \u001b[0mjaccard_mult_mean\u001b[0m\u001b[0;34m[\u001b[0m\u001b[0mi\u001b[0m\u001b[0;34m]\u001b[0m\u001b[0;34m,\u001b[0m \u001b[0mjaccard_mult_std\u001b[0m\u001b[0;34m[\u001b[0m\u001b[0mi\u001b[0m\u001b[0;34m]\u001b[0m\u001b[0;34m,\u001b[0m \u001b[0mdice_bin_mean\u001b[0m\u001b[0;34m[\u001b[0m\u001b[0mi\u001b[0m\u001b[0;34m]\u001b[0m\u001b[0;34m,\u001b[0m\u001b[0;31m \u001b[0m\u001b[0;31m\\\u001b[0m\u001b[0;34m\u001b[0m\u001b[0;34m\u001b[0m\u001b[0m\n\u001b[0;32m--> 146\u001b[0;31m             dice_bin_std[i], jaccard_bin_mean[i], jaccard_bin_std[i] = self.metrics_cuda(\n\u001b[0m\u001b[1;32m    147\u001b[0m                 samples_num, threshold, model_name, snapshot_variant)\n\u001b[1;32m    148\u001b[0m         \u001b[0;32mreturn\u001b[0m \u001b[0mdice_mult_mean\u001b[0m\u001b[0;34m.\u001b[0m\u001b[0mdata\u001b[0m\u001b[0;34m.\u001b[0m\u001b[0mcpu\u001b[0m\u001b[0;34m(\u001b[0m\u001b[0;34m)\u001b[0m\u001b[0;34m.\u001b[0m\u001b[0mnumpy\u001b[0m\u001b[0;34m(\u001b[0m\u001b[0;34m)\u001b[0m\u001b[0;34m,\u001b[0m \u001b[0mdice_mult_std\u001b[0m\u001b[0;34m.\u001b[0m\u001b[0mdata\u001b[0m\u001b[0;34m.\u001b[0m\u001b[0mcpu\u001b[0m\u001b[0;34m(\u001b[0m\u001b[0;34m)\u001b[0m\u001b[0;34m.\u001b[0m\u001b[0mnumpy\u001b[0m\u001b[0;34m(\u001b[0m\u001b[0;34m)\u001b[0m\u001b[0;34m,\u001b[0m \u001b[0mjaccard_mult_mean\u001b[0m\u001b[0;34m.\u001b[0m\u001b[0mdata\u001b[0m\u001b[0;34m.\u001b[0m\u001b[0mcpu\u001b[0m\u001b[0;34m(\u001b[0m\u001b[0;34m)\u001b[0m\u001b[0;34m.\u001b[0m\u001b[0mnumpy\u001b[0m\u001b[0;34m(\u001b[0m\u001b[0;34m)\u001b[0m\u001b[0;34m,\u001b[0m\u001b[0;31m \u001b[0m\u001b[0;31m\\\u001b[0m\u001b[0;34m\u001b[0m\u001b[0;34m\u001b[0m\u001b[0m\n",
      "\u001b[0;32m~/workspace/development/wUUNet_fireSegm/validation.py\u001b[0m in \u001b[0;36mmetrics_cuda\u001b[0;34m(self, samples_num, threshold, model_name, snapshot_variant)\u001b[0m\n\u001b[1;32m    117\u001b[0m \u001b[0;34m\u001b[0m\u001b[0m\n\u001b[1;32m    118\u001b[0m     \u001b[0;32mdef\u001b[0m \u001b[0mmetrics_cuda\u001b[0m\u001b[0;34m(\u001b[0m\u001b[0mself\u001b[0m\u001b[0;34m,\u001b[0m \u001b[0msamples_num\u001b[0m\u001b[0;34m,\u001b[0m \u001b[0mthreshold\u001b[0m\u001b[0;34m,\u001b[0m \u001b[0mmodel_name\u001b[0m\u001b[0;34m,\u001b[0m \u001b[0msnapshot_variant\u001b[0m\u001b[0;34m)\u001b[0m\u001b[0;34m:\u001b[0m\u001b[0;34m\u001b[0m\u001b[0;34m\u001b[0m\u001b[0m\n\u001b[0;32m--> 119\u001b[0;31m         _dice_mult_list, _jaccard_mult_list, _dice_bin_list, _jaccard_bin_list = self.get_metrics_for_all_samples(\n\u001b[0m\u001b[1;32m    120\u001b[0m             \u001b[0mmodel_name\u001b[0m\u001b[0;34m,\u001b[0m\u001b[0;34m\u001b[0m\u001b[0;34m\u001b[0m\u001b[0m\n\u001b[1;32m    121\u001b[0m             \u001b[0msnapshot_variant\u001b[0m\u001b[0;34m,\u001b[0m\u001b[0;34m\u001b[0m\u001b[0;34m\u001b[0m\u001b[0m\n",
      "\u001b[0;32m~/workspace/development/wUUNet_fireSegm/validation.py\u001b[0m in \u001b[0;36mget_metrics_for_all_samples\u001b[0;34m(self, model_name, snapshot_variant, threshold, samples_num)\u001b[0m\n\u001b[1;32m    101\u001b[0m         \u001b[0;32mfor\u001b[0m \u001b[0mj\u001b[0m \u001b[0;32min\u001b[0m \u001b[0mrange\u001b[0m\u001b[0;34m(\u001b[0m\u001b[0;36m0\u001b[0m\u001b[0;34m,\u001b[0m \u001b[0msamples_num\u001b[0m\u001b[0;34m)\u001b[0m\u001b[0;34m:\u001b[0m\u001b[0;34m\u001b[0m\u001b[0;34m\u001b[0m\u001b[0m\n\u001b[1;32m    102\u001b[0m             \u001b[0moutputs\u001b[0m \u001b[0;34m=\u001b[0m \u001b[0mtorch\u001b[0m\u001b[0;34m.\u001b[0m\u001b[0mfrom_numpy\u001b[0m\u001b[0;34m(\u001b[0m\u001b[0mnp\u001b[0m\u001b[0;34m.\u001b[0m\u001b[0mload\u001b[0m\u001b[0;34m(\u001b[0m\u001b[0mjoin\u001b[0m\u001b[0;34m(\u001b[0m\u001b[0mmodel_metrics_dir\u001b[0m\u001b[0;34m,\u001b[0m \u001b[0;34m'ad_segmask{}.npy'\u001b[0m\u001b[0;34m.\u001b[0m\u001b[0mformat\u001b[0m\u001b[0;34m(\u001b[0m\u001b[0mj\u001b[0m\u001b[0;34m)\u001b[0m\u001b[0;34m)\u001b[0m\u001b[0;34m)\u001b[0m\u001b[0;34m)\u001b[0m\u001b[0;34m.\u001b[0m\u001b[0mcuda\u001b[0m\u001b[0;34m(\u001b[0m\u001b[0;34m)\u001b[0m\u001b[0;34m\u001b[0m\u001b[0;34m\u001b[0m\u001b[0m\n\u001b[0;32m--> 103\u001b[0;31m             \u001b[0mmult_lbl\u001b[0m \u001b[0;34m=\u001b[0m \u001b[0mtorch\u001b[0m\u001b[0;34m.\u001b[0m\u001b[0mfrom_numpy\u001b[0m\u001b[0;34m(\u001b[0m\u001b[0mnp\u001b[0m\u001b[0;34m.\u001b[0m\u001b[0mload\u001b[0m\u001b[0;34m(\u001b[0m\u001b[0mjoin\u001b[0m\u001b[0;34m(\u001b[0m\u001b[0mmodel_metrics_dir\u001b[0m\u001b[0;34m,\u001b[0m \u001b[0;34m'gt_segmask{}.npy'\u001b[0m\u001b[0;34m.\u001b[0m\u001b[0mformat\u001b[0m\u001b[0;34m(\u001b[0m\u001b[0mj\u001b[0m\u001b[0;34m)\u001b[0m\u001b[0;34m)\u001b[0m\u001b[0;34m)\u001b[0m\u001b[0;34m)\u001b[0m\u001b[0;34m.\u001b[0m\u001b[0mcuda\u001b[0m\u001b[0;34m(\u001b[0m\u001b[0;34m)\u001b[0m\u001b[0;34m\u001b[0m\u001b[0;34m\u001b[0m\u001b[0m\n\u001b[0m\u001b[1;32m    104\u001b[0m             \u001b[0mouts\u001b[0m \u001b[0;34m=\u001b[0m \u001b[0moutputs\u001b[0m\u001b[0;34m.\u001b[0m\u001b[0mclone\u001b[0m\u001b[0;34m(\u001b[0m\u001b[0;34m)\u001b[0m \u001b[0;34m-\u001b[0m \u001b[0mthreshold\u001b[0m\u001b[0;34m\u001b[0m\u001b[0;34m\u001b[0m\u001b[0m\n\u001b[1;32m    105\u001b[0m             \u001b[0mouts\u001b[0m \u001b[0;34m=\u001b[0m \u001b[0mtorch\u001b[0m\u001b[0;34m.\u001b[0m\u001b[0mclamp\u001b[0m\u001b[0;34m(\u001b[0m\u001b[0mouts\u001b[0m\u001b[0;34m,\u001b[0m \u001b[0;36m0.\u001b[0m\u001b[0;34m)\u001b[0m\u001b[0;34m\u001b[0m\u001b[0;34m\u001b[0m\u001b[0m\n",
      "\u001b[0;32m/usr/local/lib/python3.8/dist-packages/numpy/lib/npyio.py\u001b[0m in \u001b[0;36mload\u001b[0;34m(file, mmap_mode, allow_pickle, fix_imports, encoding)\u001b[0m\n\u001b[1;32m    438\u001b[0m                 \u001b[0;32mreturn\u001b[0m \u001b[0mformat\u001b[0m\u001b[0;34m.\u001b[0m\u001b[0mopen_memmap\u001b[0m\u001b[0;34m(\u001b[0m\u001b[0mfile\u001b[0m\u001b[0;34m,\u001b[0m \u001b[0mmode\u001b[0m\u001b[0;34m=\u001b[0m\u001b[0mmmap_mode\u001b[0m\u001b[0;34m)\u001b[0m\u001b[0;34m\u001b[0m\u001b[0;34m\u001b[0m\u001b[0m\n\u001b[1;32m    439\u001b[0m             \u001b[0;32melse\u001b[0m\u001b[0;34m:\u001b[0m\u001b[0;34m\u001b[0m\u001b[0;34m\u001b[0m\u001b[0m\n\u001b[0;32m--> 440\u001b[0;31m                 return format.read_array(fid, allow_pickle=allow_pickle,\n\u001b[0m\u001b[1;32m    441\u001b[0m                                          pickle_kwargs=pickle_kwargs)\n\u001b[1;32m    442\u001b[0m         \u001b[0;32melse\u001b[0m\u001b[0;34m:\u001b[0m\u001b[0;34m\u001b[0m\u001b[0;34m\u001b[0m\u001b[0m\n",
      "\u001b[0;32m/usr/local/lib/python3.8/dist-packages/numpy/lib/format.py\u001b[0m in \u001b[0;36mread_array\u001b[0;34m(fp, allow_pickle, pickle_kwargs)\u001b[0m\n\u001b[1;32m    727\u001b[0m     \u001b[0mversion\u001b[0m \u001b[0;34m=\u001b[0m \u001b[0mread_magic\u001b[0m\u001b[0;34m(\u001b[0m\u001b[0mfp\u001b[0m\u001b[0;34m)\u001b[0m\u001b[0;34m\u001b[0m\u001b[0;34m\u001b[0m\u001b[0m\n\u001b[1;32m    728\u001b[0m     \u001b[0m_check_version\u001b[0m\u001b[0;34m(\u001b[0m\u001b[0mversion\u001b[0m\u001b[0;34m)\u001b[0m\u001b[0;34m\u001b[0m\u001b[0;34m\u001b[0m\u001b[0m\n\u001b[0;32m--> 729\u001b[0;31m     \u001b[0mshape\u001b[0m\u001b[0;34m,\u001b[0m \u001b[0mfortran_order\u001b[0m\u001b[0;34m,\u001b[0m \u001b[0mdtype\u001b[0m \u001b[0;34m=\u001b[0m \u001b[0m_read_array_header\u001b[0m\u001b[0;34m(\u001b[0m\u001b[0mfp\u001b[0m\u001b[0;34m,\u001b[0m \u001b[0mversion\u001b[0m\u001b[0;34m)\u001b[0m\u001b[0;34m\u001b[0m\u001b[0;34m\u001b[0m\u001b[0m\n\u001b[0m\u001b[1;32m    730\u001b[0m     \u001b[0;32mif\u001b[0m \u001b[0mlen\u001b[0m\u001b[0;34m(\u001b[0m\u001b[0mshape\u001b[0m\u001b[0;34m)\u001b[0m \u001b[0;34m==\u001b[0m \u001b[0;36m0\u001b[0m\u001b[0;34m:\u001b[0m\u001b[0;34m\u001b[0m\u001b[0;34m\u001b[0m\u001b[0m\n\u001b[1;32m    731\u001b[0m         \u001b[0mcount\u001b[0m \u001b[0;34m=\u001b[0m \u001b[0;36m1\u001b[0m\u001b[0;34m\u001b[0m\u001b[0;34m\u001b[0m\u001b[0m\n",
      "\u001b[0;32m/usr/local/lib/python3.8/dist-packages/numpy/lib/format.py\u001b[0m in \u001b[0;36m_read_array_header\u001b[0;34m(fp, version)\u001b[0m\n\u001b[1;32m    591\u001b[0m     \u001b[0;31m#   \"fortran_order\" : bool\u001b[0m\u001b[0;34m\u001b[0m\u001b[0;34m\u001b[0m\u001b[0;34m\u001b[0m\u001b[0m\n\u001b[1;32m    592\u001b[0m     \u001b[0;31m#   \"descr\" : dtype.descr\u001b[0m\u001b[0;34m\u001b[0m\u001b[0;34m\u001b[0m\u001b[0;34m\u001b[0m\u001b[0m\n\u001b[0;32m--> 593\u001b[0;31m     \u001b[0mheader\u001b[0m \u001b[0;34m=\u001b[0m \u001b[0m_filter_header\u001b[0m\u001b[0;34m(\u001b[0m\u001b[0mheader\u001b[0m\u001b[0;34m)\u001b[0m\u001b[0;34m\u001b[0m\u001b[0;34m\u001b[0m\u001b[0m\n\u001b[0m\u001b[1;32m    594\u001b[0m     \u001b[0;32mtry\u001b[0m\u001b[0;34m:\u001b[0m\u001b[0;34m\u001b[0m\u001b[0;34m\u001b[0m\u001b[0m\n\u001b[1;32m    595\u001b[0m         \u001b[0md\u001b[0m \u001b[0;34m=\u001b[0m \u001b[0msafe_eval\u001b[0m\u001b[0;34m(\u001b[0m\u001b[0mheader\u001b[0m\u001b[0;34m)\u001b[0m\u001b[0;34m\u001b[0m\u001b[0;34m\u001b[0m\u001b[0m\n",
      "\u001b[0;32m/usr/local/lib/python3.8/dist-packages/numpy/lib/format.py\u001b[0m in \u001b[0;36m_filter_header\u001b[0;34m(s)\u001b[0m\n\u001b[1;32m    555\u001b[0m     \u001b[0mtokens\u001b[0m \u001b[0;34m=\u001b[0m \u001b[0;34m[\u001b[0m\u001b[0;34m]\u001b[0m\u001b[0;34m\u001b[0m\u001b[0;34m\u001b[0m\u001b[0m\n\u001b[1;32m    556\u001b[0m     \u001b[0mlast_token_was_number\u001b[0m \u001b[0;34m=\u001b[0m \u001b[0;32mFalse\u001b[0m\u001b[0;34m\u001b[0m\u001b[0;34m\u001b[0m\u001b[0m\n\u001b[0;32m--> 557\u001b[0;31m     \u001b[0;32mfor\u001b[0m \u001b[0mtoken\u001b[0m \u001b[0;32min\u001b[0m \u001b[0mtokenize\u001b[0m\u001b[0;34m.\u001b[0m\u001b[0mgenerate_tokens\u001b[0m\u001b[0;34m(\u001b[0m\u001b[0mStringIO\u001b[0m\u001b[0;34m(\u001b[0m\u001b[0ms\u001b[0m\u001b[0;34m)\u001b[0m\u001b[0;34m.\u001b[0m\u001b[0mreadline\u001b[0m\u001b[0;34m)\u001b[0m\u001b[0;34m:\u001b[0m\u001b[0;34m\u001b[0m\u001b[0;34m\u001b[0m\u001b[0m\n\u001b[0m\u001b[1;32m    558\u001b[0m         \u001b[0mtoken_type\u001b[0m \u001b[0;34m=\u001b[0m \u001b[0mtoken\u001b[0m\u001b[0;34m[\u001b[0m\u001b[0;36m0\u001b[0m\u001b[0;34m]\u001b[0m\u001b[0;34m\u001b[0m\u001b[0;34m\u001b[0m\u001b[0m\n\u001b[1;32m    559\u001b[0m         \u001b[0mtoken_string\u001b[0m \u001b[0;34m=\u001b[0m \u001b[0mtoken\u001b[0m\u001b[0;34m[\u001b[0m\u001b[0;36m1\u001b[0m\u001b[0;34m]\u001b[0m\u001b[0;34m\u001b[0m\u001b[0;34m\u001b[0m\u001b[0m\n",
      "\u001b[0;32m/usr/lib/python3.8/tokenize.py\u001b[0m in \u001b[0;36m_tokenize\u001b[0;34m(readline, encoding)\u001b[0m\n\u001b[1;32m    525\u001b[0m             \u001b[0mpseudomatch\u001b[0m \u001b[0;34m=\u001b[0m \u001b[0m_compile\u001b[0m\u001b[0;34m(\u001b[0m\u001b[0mPseudoToken\u001b[0m\u001b[0;34m)\u001b[0m\u001b[0;34m.\u001b[0m\u001b[0mmatch\u001b[0m\u001b[0;34m(\u001b[0m\u001b[0mline\u001b[0m\u001b[0;34m,\u001b[0m \u001b[0mpos\u001b[0m\u001b[0;34m)\u001b[0m\u001b[0;34m\u001b[0m\u001b[0;34m\u001b[0m\u001b[0m\n\u001b[1;32m    526\u001b[0m             \u001b[0;32mif\u001b[0m \u001b[0mpseudomatch\u001b[0m\u001b[0;34m:\u001b[0m                                \u001b[0;31m# scan for tokens\u001b[0m\u001b[0;34m\u001b[0m\u001b[0;34m\u001b[0m\u001b[0m\n\u001b[0;32m--> 527\u001b[0;31m                 \u001b[0mstart\u001b[0m\u001b[0;34m,\u001b[0m \u001b[0mend\u001b[0m \u001b[0;34m=\u001b[0m \u001b[0mpseudomatch\u001b[0m\u001b[0;34m.\u001b[0m\u001b[0mspan\u001b[0m\u001b[0;34m(\u001b[0m\u001b[0;36m1\u001b[0m\u001b[0;34m)\u001b[0m\u001b[0;34m\u001b[0m\u001b[0;34m\u001b[0m\u001b[0m\n\u001b[0m\u001b[1;32m    528\u001b[0m                 \u001b[0mspos\u001b[0m\u001b[0;34m,\u001b[0m \u001b[0mepos\u001b[0m\u001b[0;34m,\u001b[0m \u001b[0mpos\u001b[0m \u001b[0;34m=\u001b[0m \u001b[0;34m(\u001b[0m\u001b[0mlnum\u001b[0m\u001b[0;34m,\u001b[0m \u001b[0mstart\u001b[0m\u001b[0;34m)\u001b[0m\u001b[0;34m,\u001b[0m \u001b[0;34m(\u001b[0m\u001b[0mlnum\u001b[0m\u001b[0;34m,\u001b[0m \u001b[0mend\u001b[0m\u001b[0;34m)\u001b[0m\u001b[0;34m,\u001b[0m \u001b[0mend\u001b[0m\u001b[0;34m\u001b[0m\u001b[0;34m\u001b[0m\u001b[0m\n\u001b[1;32m    529\u001b[0m                 \u001b[0;32mif\u001b[0m \u001b[0mstart\u001b[0m \u001b[0;34m==\u001b[0m \u001b[0mend\u001b[0m\u001b[0;34m:\u001b[0m\u001b[0;34m\u001b[0m\u001b[0;34m\u001b[0m\u001b[0m\n",
      "\u001b[0;31mKeyboardInterrupt\u001b[0m: "
     ]
    }
   ],
   "source": [
    "ML_MODELS = [\n",
    "    'unet_224_n3_fs_jaccard',\n",
    "    'uunet_224_n3_fs_jaccard',\n",
    "    'wuunet_224_n3_fs_jaccard'\n",
    "]\n",
    "\n",
    "INPUT_SIZE = (224, 224)\n",
    "\n",
    "DATASET_VARIANTS = ['train_test']\n",
    "\n",
    "COMBINATION_TYPES = ['gauss_0']\n",
    "print(COMBINATION_TYPES)\n",
    "\n",
    "VARIANTS = {\n",
    "    'unet_224_n3_fs_jaccard':   ['pretrained'],  #['mult_trainval_acc', 'loss']\n",
    "    'uunet_224_n3_fs_jaccard':  ['pretrained'],  #['mult_acc', 'mult_loss', 'mult_trainval_acc']\n",
    "    'wuunet_224_n3_fs_jaccard': ['pretrained']   #['mult_acc', 'mult_loss', 'mult_trainval_acc']\n",
    "}\n",
    "\n",
    "for dataset_variant in DATASET_VARIANTS:\n",
    "    for comb_type in COMBINATION_TYPES:\n",
    "        for ml_model_name in ML_MODELS:\n",
    "            print(dataset_variant, comb_type)\n",
    "            validation = Validation(dataset_variant, comb_type, input_size=INPUT_SIZE)\n",
    "            for snapshot_variant in VARIANTS[ml_model_name]:\n",
    "                validation.gauss_dichotomy(ml_model_name, snapshot_variant)"
   ]
  }
 ],
 "metadata": {
  "kernelspec": {
   "display_name": "Python 3",
   "language": "python",
   "name": "python3"
  },
  "language_info": {
   "codemirror_mode": {
    "name": "ipython",
    "version": 3
   },
   "file_extension": ".py",
   "mimetype": "text/x-python",
   "name": "python",
   "nbconvert_exporter": "python",
   "pygments_lexer": "ipython3",
   "version": "3.8.5"
  }
 },
 "nbformat": 4,
 "nbformat_minor": 2
}
